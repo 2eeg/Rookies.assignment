{
 "cells": [
  {
   "cell_type": "markdown",
   "id": "d0ad53dd",
   "metadata": {},
   "source": [
    "# 2-1. Nate 뉴스기사 제목 스크래핑하기 (필수)\n",
    "https://news.nate.com/recent?mid=n0100\n",
    "최신뉴스, 정치 , 경제, 사회, 세계, IT/과학 \n",
    "6개의 섹션의 뉴스를 출력하는 함수를 생성하여 스크래핑 하기\n",
    "\n",
    "Image, 기사제목, 기사링크\n",
    "\n",
    "뉴스기사의 Image를 출력 하세요 \n",
    "1) Image의 절대경로와 상대 경로를 합치려면 urljoin 함수를 사용하세요.\n",
    "    \n",
    "    `from urllib.parse import urljoin`\n",
    "\n",
    "2) Image 출력은 Image 클래스와 display 함수를 사용하세요.\n",
    "    \n",
    "    `from IPython.display import Image, display`\n",
    "\n",
    "3) img 엘리먼트의 존재 여부를 체크하신 후에 src 속성의 이미지를 경로를 추출하기\n",
    "  \n",
    "  => Image 가 없는 뉴스도 있기 때문에 \n"
   ]
  },
  {
   "cell_type": "code",
   "execution_count": 39,
   "id": "93e09a63",
   "metadata": {},
   "outputs": [
    {
     "data": {
      "text/html": [
       "<img src=\"https://thumbnews.nateimg.co.kr/news90///news.nateimg.co.kr/orgImg/do/2025/04/10/131385052.1.jpg\" width=\"100\" height=\"100\"/>"
      ],
      "text/plain": [
       "<IPython.core.display.Image object>"
      ]
     },
     "metadata": {},
     "output_type": "display_data"
    },
    {
     "name": "stdout",
     "output_type": "stream",
     "text": [
      "끊이지 않는 '투표지 분류기 조작설'…\"민관정 검증단 꾸려 감시를\" https://news.nate.com/view/20250410n01049?mid=n0101\n"
     ]
    },
    {
     "data": {
      "text/html": [
       "<img src=\"https://thumbnews.nateimg.co.kr/news90///news.nateimg.co.kr/orgImg/ch/2025/04/10/ch_1744223404738_395151_0.jpg\" width=\"100\" height=\"100\"/>"
      ],
      "text/plain": [
       "<IPython.core.display.Image object>"
      ]
     },
     "metadata": {},
     "output_type": "display_data"
    },
    {
     "name": "stdout",
     "output_type": "stream",
     "text": [
      "민주당 '이완규 임명 무력화' 법안 강행 https://news.nate.com/view/20250410n00612?mid=n0101\n"
     ]
    },
    {
     "data": {
      "text/html": [
       "<img src=\"https://thumbnews.nateimg.co.kr/news90///news.nateimg.co.kr/orgImg/ch/2025/04/10/ch_1744223285002_135930_0.jpg\" width=\"100\" height=\"100\"/>"
      ],
      "text/plain": [
       "<IPython.core.display.Image object>"
      ]
     },
     "metadata": {},
     "output_type": "display_data"
    },
    {
     "name": "stdout",
     "output_type": "stream",
     "text": [
      "김문수 \"깨끗한 내가 李 상대\"…오세훈 13일 출마 선언 https://news.nate.com/view/20250410n00598?mid=n0101\n"
     ]
    },
    {
     "data": {
      "text/html": [
       "<img src=\"https://thumbnews.nateimg.co.kr/news90///news.nateimg.co.kr/orgImg/ch/2025/04/10/ch_1744223224668_126212_0.jpg\" width=\"100\" height=\"100\"/>"
      ],
      "text/plain": [
       "<IPython.core.display.Image object>"
      ]
     },
     "metadata": {},
     "output_type": "display_data"
    },
    {
     "name": "stdout",
     "output_type": "stream",
     "text": [
      "계엄과 무관한 이슈까지…尹정부 3년 모두 '내란'과 엮는 좌파진영 https://news.nate.com/view/20250410n00593?mid=n0101\n"
     ]
    },
    {
     "data": {
      "text/html": [
       "<img src=\"https://thumbnews.nateimg.co.kr/news90///news.nateimg.co.kr/orgImg/do/2025/04/10/131381476.5.jpg\" width=\"100\" height=\"100\"/>"
      ],
      "text/plain": [
       "<IPython.core.display.Image object>"
      ]
     },
     "metadata": {},
     "output_type": "display_data"
    },
    {
     "name": "stdout",
     "output_type": "stream",
     "text": [
      "이완규 \"韓대행 결정 존중\" 사퇴 거부…공수처장 \"李 수사대상\" https://news.nate.com/view/20250410n01095?mid=n0101\n",
      "민주 '권한대행 재판관 지명 금지법안' 법사위 처리 https://news.nate.com/view/20250410n01094?mid=n0101\n",
      "\"6·3대선, 부정선거 음모론 끝내자\" https://news.nate.com/view/20250410n01089?mid=n0101\n"
     ]
    },
    {
     "data": {
      "text/html": [
       "<img src=\"https://thumbnews.nateimg.co.kr/news90///news.nateimg.co.kr/orgImg/do/2025/04/10/131383593.1.jpg\" width=\"100\" height=\"100\"/>"
      ],
      "text/plain": [
       "<IPython.core.display.Image object>"
      ]
     },
     "metadata": {},
     "output_type": "display_data"
    },
    {
     "name": "stdout",
     "output_type": "stream",
     "text": [
      "李 오늘 대선출마, 국힘 내달 3일 후보 확정 https://news.nate.com/view/20250410n01088?mid=n0101\n",
      "'원스톱 쇼핑' 트럼프 언급에…정부 \"조선업-LNG 지렛대 활용\" https://news.nate.com/view/20250410n01083?mid=n0101\n"
     ]
    },
    {
     "data": {
      "text/html": [
       "<img src=\"https://thumbnews.nateimg.co.kr/news90///news.nateimg.co.kr/orgImg/do/2025/04/10/131385024.1.jpg\" width=\"100\" height=\"100\"/>"
      ],
      "text/plain": [
       "<IPython.core.display.Image object>"
      ]
     },
     "metadata": {},
     "output_type": "display_data"
    },
    {
     "name": "stdout",
     "output_type": "stream",
     "text": [
      "\"軍, 美에 '중동 차출 주한미군 패트리엇' 보완전력 배치 요청\" https://news.nate.com/view/20250410n01066?mid=n0101\n"
     ]
    },
    {
     "data": {
      "text/html": [
       "<img src=\"https://thumbnews.nateimg.co.kr/news90///news.nateimg.co.kr/orgImg/do/2025/04/10/131381358.5.jpg\" width=\"100\" height=\"100\"/>"
      ],
      "text/plain": [
       "<IPython.core.display.Image object>"
      ]
     },
     "metadata": {},
     "output_type": "display_data"
    },
    {
     "name": "stdout",
     "output_type": "stream",
     "text": [
      "마은혁 \"우려 시선 잘 알아…헌법 기본에 충실\" 마용주 \"상식에 맞게 법해석…신속-공정 재판\" https://news.nate.com/view/20250410n01060?mid=n0101\n"
     ]
    },
    {
     "data": {
      "text/html": [
       "<img src=\"https://thumbnews.nateimg.co.kr/news90///news.nateimg.co.kr/orgImg/do/2025/04/10/131381370.5.jpg\" width=\"100\" height=\"100\"/>"
      ],
      "text/plain": [
       "<IPython.core.display.Image object>"
      ]
     },
     "metadata": {},
     "output_type": "display_data"
    },
    {
     "name": "stdout",
     "output_type": "stream",
     "text": [
      "\"이제 못 볼 수도\"…관람객 붐비는 청와대 https://news.nate.com/view/20250410n01059?mid=n0101\n"
     ]
    },
    {
     "data": {
      "text/html": [
       "<img src=\"https://thumbnews.nateimg.co.kr/news90///news.nateimg.co.kr/orgImg/do/2025/04/10/131381493.5.jpg\" width=\"100\" height=\"100\"/>"
      ],
      "text/plain": [
       "<IPython.core.display.Image object>"
      ]
     },
     "metadata": {},
     "output_type": "display_data"
    },
    {
     "name": "stdout",
     "output_type": "stream",
     "text": [
      "국힘 16일 경선 진출자 발표…공직사퇴 시한 전날 후보 선출 https://news.nate.com/view/20250410n01057?mid=n0101\n"
     ]
    },
    {
     "data": {
      "text/html": [
       "<img src=\"https://thumbnews.nateimg.co.kr/news90///news.nateimg.co.kr/orgImg/do/2025/04/10/131381498.5.jpg\" width=\"100\" height=\"100\"/>"
      ],
      "text/plain": [
       "<IPython.core.display.Image object>"
      ]
     },
     "metadata": {},
     "output_type": "display_data"
    },
    {
     "name": "stdout",
     "output_type": "stream",
     "text": [
      "이재명 '성장과 회복' 키워드…오늘 10여분 영상 출마 선언 https://news.nate.com/view/20250410n01056?mid=n0101\n",
      "대만처럼 완전 수개표?…선관위 \"인력 최소 7배로 늘려야\" https://news.nate.com/view/20250410n01050?mid=n0101\n"
     ]
    },
    {
     "data": {
      "text/html": [
       "<img src=\"https://thumbnews.nateimg.co.kr/news90///news.nateimg.co.kr/orgImg/sv/2025/04/10/202059424_700.jpg\" width=\"100\" height=\"100\"/>"
      ],
      "text/plain": [
       "<IPython.core.display.Image object>"
      ]
     },
     "metadata": {},
     "output_type": "display_data"
    },
    {
     "name": "stdout",
     "output_type": "stream",
     "text": [
      "'대통령 몫 임명 불가' 법사위 통과…\"법리 하자\" https://news.nate.com/view/20250410n00941?mid=n0101\n"
     ]
    },
    {
     "data": {
      "text/html": [
       "<img src=\"https://thumbnews.nateimg.co.kr/news90///news.nateimg.co.kr/orgImg/sv/2025/04/10/202059423_700.jpg\" width=\"100\" height=\"100\"/>"
      ],
      "text/plain": [
       "<IPython.core.display.Image object>"
      ]
     },
     "metadata": {},
     "output_type": "display_data"
    },
    {
     "name": "stdout",
     "output_type": "stream",
     "text": [
      "김문수 대선 출사표…오세훈 13일 출마 선언 https://news.nate.com/view/20250410n00919?mid=n0101\n"
     ]
    },
    {
     "data": {
      "text/html": [
       "<img src=\"https://thumbnews.nateimg.co.kr/news90///news.nateimg.co.kr/orgImg/sv/2025/04/10/202059422_700.jpg\" width=\"100\" height=\"100\"/>"
      ],
      "text/plain": [
       "<IPython.core.display.Image object>"
      ]
     },
     "metadata": {},
     "output_type": "display_data"
    },
    {
     "name": "stdout",
     "output_type": "stream",
     "text": [
      "이재명 당대표 사퇴…김동연 출마 선언 https://news.nate.com/view/20250410n00894?mid=n0101\n"
     ]
    },
    {
     "data": {
      "text/html": [
       "<img src=\"https://thumbnews.nateimg.co.kr/news90///news.nateimg.co.kr/orgImg/kx/2025/04/10/2025040920440415002_1744199044_1744191147.jpg\" width=\"100\" height=\"100\"/>"
      ],
      "text/plain": [
       "<IPython.core.display.Image object>"
      ]
     },
     "metadata": {},
     "output_type": "display_data"
    },
    {
     "name": "stdout",
     "output_type": "stream",
     "text": [
      "결국 방위비 압박하는 美…인상 땐 추가 군사지원 얻어내야 https://news.nate.com/view/20250410n00887?mid=n0101\n"
     ]
    },
    {
     "data": {
      "text/html": [
       "<img src=\"https://thumbnews.nateimg.co.kr/news90///news.nateimg.co.kr/orgImg/mt/2025/04/10/2025040615420640398_1.jpg\" width=\"100\" height=\"100\"/>"
      ],
      "text/plain": [
       "<IPython.core.display.Image object>"
      ]
     },
     "metadata": {},
     "output_type": "display_data"
    },
    {
     "name": "stdout",
     "output_type": "stream",
     "text": [
      "[MT시평]해방의 날과 파멸의 날 https://news.nate.com/view/20250410n00861?mid=n0101\n"
     ]
    }
   ],
   "source": [
    "from IPython.display import Image, display\n",
    "import requests\n",
    "from bs4 import BeautifulSoup\n",
    "\n",
    "\n",
    "def print_news(sid):\n",
    "    section_dict = {'전체':'n0100', '정치':'n0101', '경제':'n0102', '사회':'n0103', '세계':'n0104', 'IT/과학':'n0105' }\n",
    "    url = f'https://news.nate.com/recent?mid={section_dict[sid]}'\n",
    "    req_header = {\n",
    "        'user-agent':\n",
    "    'Mozilla/5.0 (Windows NT 10.0; Win64; x64) AppleWebKit/537.36 (KHTML, like Gecko) Chrome/135.0.0.0 Safari/537.36'\n",
    "    }\n",
    "    res = requests.get(url, headers=req_header)\n",
    "    res.encoding = 'euc-kr'\n",
    "    if res.ok:\n",
    "        html = res.text\n",
    "        soup = BeautifulSoup(html, 'html.parser')\n",
    "        for div_tag in soup.select(\"div.mlt01\"):\n",
    "            title = div_tag.select_one(\"h2.tit\").text.strip()\n",
    "            link = 'https:'+div_tag.select_one(\"a\")[\"href\"]\n",
    "            if div_tag.select_one(\"img\"):\n",
    "                image_src = 'https:' + div_tag.select_one(\"img\")[\"src\"]\n",
    "                display(Image(url=image_src, width=100, height=100))\n",
    "            print(title, link)\n",
    "\n",
    "    else:\n",
    "        print('Error: ', res.status_code)\n",
    "print_news('정치')"
   ]
  },
  {
   "cell_type": "markdown",
   "id": "0bd743dc",
   "metadata": {},
   "source": [
    "## 2-2. 하나의 네이버 웹툰과 1개의 회차에 대한 Image 다운로드 하기 (필수)\n",
    "\n",
    ":  하나의 웹툰의 제목(title)과 회차번호(no),회차의URL(url) 을 입력으로 받는 함수를 선언합니다. \n",
    "\n",
    "\n",
    "   `def download_one_episode(title,no,url):`\n",
    "\n",
    "아래와 같이 호출합니다.\n",
    "`download_one_episode('낢이사는이야기',48,'https://comic.naver.com/webtoon/detail?titleId=833255&no=49&week=tue')`\n",
    "\n",
    "img\\낢이사는이야기\\48 디렉토리가 생성되며 ,\n",
    "\n",
    "그 디렉토리 아래에 웹툰 image들이 다운로드 되도록 해주세요."
   ]
  },
  {
   "cell_type": "code",
   "execution_count": 3,
   "id": "d0b78f46",
   "metadata": {},
   "outputs": [
    {
     "name": "stdout",
     "output_type": "stream",
     "text": [
      "write img/낢이사는이야기/48\\20250310103947_792197c569e377c7f369fe9d6f2bd961_IMAG01_1.jpg(166,289 bytes)\n",
      "write img/낢이사는이야기/48\\20250310103947_792197c569e377c7f369fe9d6f2bd961_IMAG01_2.jpg(117,581 bytes)\n",
      "write img/낢이사는이야기/48\\20250310103947_792197c569e377c7f369fe9d6f2bd961_IMAG01_3.jpg(175,647 bytes)\n",
      "write img/낢이사는이야기/48\\20250310103947_792197c569e377c7f369fe9d6f2bd961_IMAG01_4.jpg(140,295 bytes)\n",
      "write img/낢이사는이야기/48\\20250310103947_792197c569e377c7f369fe9d6f2bd961_IMAG01_5.jpg(115,277 bytes)\n",
      "write img/낢이사는이야기/48\\20250310103947_792197c569e377c7f369fe9d6f2bd961_IMAG01_6.jpg(86,840 bytes)\n",
      "write img/낢이사는이야기/48\\20250310103947_792197c569e377c7f369fe9d6f2bd961_IMAG01_7.jpg(151,280 bytes)\n",
      "write img/낢이사는이야기/48\\20250310103947_792197c569e377c7f369fe9d6f2bd961_IMAG01_8.jpg(146,198 bytes)\n",
      "write img/낢이사는이야기/48\\20250310103947_792197c569e377c7f369fe9d6f2bd961_IMAG01_9.jpg(86,460 bytes)\n",
      "write img/낢이사는이야기/48\\20250310103947_792197c569e377c7f369fe9d6f2bd961_IMAG01_10.jpg(152,631 bytes)\n",
      "write img/낢이사는이야기/48\\20250310103947_792197c569e377c7f369fe9d6f2bd961_IMAG01_11.jpg(236,174 bytes)\n",
      "write img/낢이사는이야기/48\\20250310103947_792197c569e377c7f369fe9d6f2bd961_IMAG01_12.jpg(218,403 bytes)\n",
      "write img/낢이사는이야기/48\\20250310103947_792197c569e377c7f369fe9d6f2bd961_IMAG01_13.jpg(126,874 bytes)\n",
      "write img/낢이사는이야기/48\\20250310103947_792197c569e377c7f369fe9d6f2bd961_IMAG01_14.jpg(169,822 bytes)\n",
      "write img/낢이사는이야기/48\\20250310103947_792197c569e377c7f369fe9d6f2bd961_IMAG01_15.jpg(100,097 bytes)\n",
      "write img/낢이사는이야기/48\\20250310103947_792197c569e377c7f369fe9d6f2bd961_IMAG01_16.jpg(138,348 bytes)\n",
      "write img/낢이사는이야기/48\\20250310103947_792197c569e377c7f369fe9d6f2bd961_IMAG01_17.jpg(136,580 bytes)\n",
      "write img/낢이사는이야기/48\\20250310103947_792197c569e377c7f369fe9d6f2bd961_IMAG01_18.jpg(127,154 bytes)\n",
      "write img/낢이사는이야기/48\\20250310103947_792197c569e377c7f369fe9d6f2bd961_IMAG01_19.jpg(155,183 bytes)\n",
      "write img/낢이사는이야기/48\\20250310103947_792197c569e377c7f369fe9d6f2bd961_IMAG01_20.jpg(175,333 bytes)\n",
      "write img/낢이사는이야기/48\\20250310103947_792197c569e377c7f369fe9d6f2bd961_IMAG01_21.jpg(108,840 bytes)\n",
      "write img/낢이사는이야기/48\\20250310103947_792197c569e377c7f369fe9d6f2bd961_IMAG01_22.jpg(107,072 bytes)\n",
      "write img/낢이사는이야기/48\\20250310103947_792197c569e377c7f369fe9d6f2bd961_IMAG01_23.jpg(9,392 bytes)\n"
     ]
    }
   ],
   "source": [
    "import requests\n",
    "from bs4 import BeautifulSoup\n",
    "import os\n",
    "def download_one_episode(title,no,url):\n",
    "    req_header = {\n",
    "        'referer': url\n",
    "    }\n",
    "    res = requests.get(url)\n",
    "    if res.ok:\n",
    "        # jpg 파일의 절대 경로 url 찾기\n",
    "        soup = BeautifulSoup(res.text, 'html.parser')\n",
    "        image_tags = soup.select(\"img[src*=IMAG01]\")\n",
    "        # img src를 저장할 list 선언\n",
    "        img_src_list = []\n",
    "        # img src 속성값 추출하기\n",
    "        for img_tag in image_tags:\n",
    "            img_src_list.append(img_tag['src'])\n",
    "        #img 디렉토리 생성하기\n",
    "        imgdir_name=f'img/{title}/{no}'\n",
    "        if not os.path.exists(imgdir_name):\n",
    "            os.makedirs(imgdir_name)\n",
    "        for img_url in img_src_list:\n",
    "        # requests 의 get(url, headers) 함수 호출하기 \n",
    "            res = requests.get(img_url, headers=req_header)\n",
    "            # binary 응답 데이터 가져오기\n",
    "            img_data = res.content  # 응답(response)에서 binary data 추출\n",
    "            file_name = os.path.join(imgdir_name,os.path.basename(img_url))  # url에서 파일명만 추출하기\n",
    "            with open(file_name, 'wb') as file:\n",
    "                print(f'write {file_name}({len(img_data):,} bytes)')\n",
    "                file.write(img_data)\n",
    "    else:\n",
    "        print(f'Error Code = {res.status_code}')\n",
    "download_one_episode('낢이사는이야기',48,'https://comic.naver.com/webtoon/detail?titleId=833255&no=49&week=tue')\n"
   ]
  },
  {
   "cell_type": "markdown",
   "id": "4d702083",
   "metadata": {},
   "source": [
    "2-3. 하나의 네이버 웹툰과 여러개의 회차에 대한 Image 다운로드 하기 (선택)\n",
    ":  하나의 웹툰의 제목(title)과 회차를 알 수 있는 url을 입력으로 받는 함수를 선언합니다. \n",
    "   def download_all_episode(title, episode_url):\n",
    ": 하나의 웹툰에 대한 1Page의 20 회차의 image를 다운로드 받습니다. \n",
    ": 페이징 처리된 모든 회차의 image 다운로드가 어려우시면 그 부분은 생략하셔도 됩니다.\n",
    " \n",
    "download_all_episode('낢이사는이야기', ’https://comic.naver.com/webtoon/list?titleId=833255&tab=tue’)\n",
    "\n",
    "   img\\낢이사는이야기\\50\n",
    "   img\\낢이사는이야기\\49\n",
    "   img\\낢이사는이야기\\48\n",
    "\n",
    "https://comic.naver.com/webtoon/list?titleId=833255&tab=tue\n",
    "\n",
    " \n",
    "          \n",
    "위의 페이지에서 모든 회차의 url을 먼저 추출합니다. \n",
    "아래의 같은 <a> 태그의 href 속성값을 모두 추출하시면 됩니다.\n",
    "<a href=\"/webtoon/detail?titleId=833255&amp;no=51&amp;week=tue\"></a>\n",
    "<a href=\"/webtoon/detail?titleId=833255&amp;no=50&amp;week=tue\"></a>\n",
    "\n",
    "회차의 url에 회차번호가 있습니다. \n",
    "예를 들어 no=49 일때 실제의 회차는 50회 입니다. \n",
    "https://comic.naver.com/webtoon/detail?titleId=833255&no=49&week=tue\n",
    "\n",
    "추출한 회차의 url를 순회하면서 2-2. 하나의 네이버 웹툰과 1개의 회차에 대한 Image 다운로드 함수를 \n",
    "호출하시면 됩니다. \n",
    "\n"
   ]
  },
  {
   "cell_type": "code",
   "execution_count": null,
   "id": "2f73134d",
   "metadata": {},
   "outputs": [
    {
     "name": "stdout",
     "output_type": "stream",
     "text": [
      "write img\\풍작이에요, 마왕님!\\1화\\20250407185507_a928beefd6db0a7f7ab607fbc12d2738_IMAG01_1.jpg(149,395 bytes)\n",
      "write img\\풍작이에요, 마왕님!\\1화\\20250407185507_a928beefd6db0a7f7ab607fbc12d2738_IMAG01_2.jpg(125,086 bytes)\n",
      "write img\\풍작이에요, 마왕님!\\1화\\20250407185507_a928beefd6db0a7f7ab607fbc12d2738_IMAG01_3.jpg(103,840 bytes)\n",
      "write img\\풍작이에요, 마왕님!\\1화\\20250407185507_a928beefd6db0a7f7ab607fbc12d2738_IMAG01_4.jpg(197,741 bytes)\n",
      "write img\\풍작이에요, 마왕님!\\1화\\20250407185507_a928beefd6db0a7f7ab607fbc12d2738_IMAG01_5.jpg(188,643 bytes)\n",
      "write img\\풍작이에요, 마왕님!\\1화\\20250407185507_a928beefd6db0a7f7ab607fbc12d2738_IMAG01_6.jpg(118,763 bytes)\n",
      "write img\\풍작이에요, 마왕님!\\1화\\20250407185507_a928beefd6db0a7f7ab607fbc12d2738_IMAG01_7.jpg(168,302 bytes)\n",
      "write img\\풍작이에요, 마왕님!\\1화\\20250407185507_a928beefd6db0a7f7ab607fbc12d2738_IMAG01_8.jpg(131,703 bytes)\n",
      "write img\\풍작이에요, 마왕님!\\1화\\20250407185507_a928beefd6db0a7f7ab607fbc12d2738_IMAG01_9.jpg(213,322 bytes)\n",
      "write img\\풍작이에요, 마왕님!\\1화\\20250407185507_a928beefd6db0a7f7ab607fbc12d2738_IMAG01_10.jpg(199,124 bytes)\n",
      "write img\\풍작이에요, 마왕님!\\1화\\20250407185507_a928beefd6db0a7f7ab607fbc12d2738_IMAG01_11.jpg(180,761 bytes)\n",
      "write img\\풍작이에요, 마왕님!\\1화\\20250407185507_a928beefd6db0a7f7ab607fbc12d2738_IMAG01_12.jpg(216,066 bytes)\n",
      "write img\\풍작이에요, 마왕님!\\1화\\20250407185507_a928beefd6db0a7f7ab607fbc12d2738_IMAG01_13.jpg(215,706 bytes)\n",
      "write img\\풍작이에요, 마왕님!\\1화\\20250407185507_a928beefd6db0a7f7ab607fbc12d2738_IMAG01_14.jpg(212,969 bytes)\n",
      "write img\\풍작이에요, 마왕님!\\1화\\20250407185507_a928beefd6db0a7f7ab607fbc12d2738_IMAG01_15.jpg(176,950 bytes)\n",
      "write img\\풍작이에요, 마왕님!\\1화\\20250407185507_a928beefd6db0a7f7ab607fbc12d2738_IMAG01_16.jpg(166,421 bytes)\n",
      "write img\\풍작이에요, 마왕님!\\1화\\20250407185507_a928beefd6db0a7f7ab607fbc12d2738_IMAG01_17.jpg(175,340 bytes)\n",
      "write img\\풍작이에요, 마왕님!\\1화\\20250407185507_a928beefd6db0a7f7ab607fbc12d2738_IMAG01_18.jpg(205,875 bytes)\n",
      "write img\\풍작이에요, 마왕님!\\1화\\20250407185507_a928beefd6db0a7f7ab607fbc12d2738_IMAG01_19.jpg(153,740 bytes)\n",
      "write img\\풍작이에요, 마왕님!\\1화\\20250407185507_a928beefd6db0a7f7ab607fbc12d2738_IMAG01_20.jpg(133,745 bytes)\n",
      "write img\\풍작이에요, 마왕님!\\1화\\20250407185507_a928beefd6db0a7f7ab607fbc12d2738_IMAG01_21.jpg(106,372 bytes)\n",
      "write img\\풍작이에요, 마왕님!\\1화\\20250407185507_a928beefd6db0a7f7ab607fbc12d2738_IMAG01_22.jpg(161,618 bytes)\n",
      "write img\\풍작이에요, 마왕님!\\1화\\20250407185507_a928beefd6db0a7f7ab607fbc12d2738_IMAG01_23.jpg(203,520 bytes)\n",
      "write img\\풍작이에요, 마왕님!\\1화\\20250407185507_a928beefd6db0a7f7ab607fbc12d2738_IMAG01_24.jpg(147,810 bytes)\n",
      "write img\\풍작이에요, 마왕님!\\1화\\20250407185507_a928beefd6db0a7f7ab607fbc12d2738_IMAG01_25.jpg(95,025 bytes)\n",
      "write img\\풍작이에요, 마왕님!\\1화\\20250407185507_a928beefd6db0a7f7ab607fbc12d2738_IMAG01_26.jpg(226,055 bytes)\n",
      "write img\\풍작이에요, 마왕님!\\1화\\20250407185507_a928beefd6db0a7f7ab607fbc12d2738_IMAG01_27.jpg(296,640 bytes)\n",
      "write img\\풍작이에요, 마왕님!\\1화\\20250407185507_a928beefd6db0a7f7ab607fbc12d2738_IMAG01_28.jpg(228,618 bytes)\n",
      "write img\\풍작이에요, 마왕님!\\1화\\20250407185507_a928beefd6db0a7f7ab607fbc12d2738_IMAG01_29.jpg(174,413 bytes)\n",
      "write img\\풍작이에요, 마왕님!\\1화\\20250407185507_a928beefd6db0a7f7ab607fbc12d2738_IMAG01_30.jpg(126,109 bytes)\n",
      "write img\\풍작이에요, 마왕님!\\1화\\20250407185507_a928beefd6db0a7f7ab607fbc12d2738_IMAG01_31.jpg(134,280 bytes)\n",
      "write img\\풍작이에요, 마왕님!\\1화\\20250407185507_a928beefd6db0a7f7ab607fbc12d2738_IMAG01_32.jpg(121,174 bytes)\n",
      "write img\\풍작이에요, 마왕님!\\1화\\20250407185507_a928beefd6db0a7f7ab607fbc12d2738_IMAG01_33.jpg(181,448 bytes)\n",
      "write img\\풍작이에요, 마왕님!\\1화\\20250407185507_a928beefd6db0a7f7ab607fbc12d2738_IMAG01_34.jpg(181,098 bytes)\n",
      "write img\\풍작이에요, 마왕님!\\1화\\20250407185507_a928beefd6db0a7f7ab607fbc12d2738_IMAG01_35.jpg(72,094 bytes)\n",
      "write img\\풍작이에요, 마왕님!\\1화\\20250407185507_a928beefd6db0a7f7ab607fbc12d2738_IMAG01_36.jpg(160,518 bytes)\n",
      "write img\\풍작이에요, 마왕님!\\1화\\20250407185507_a928beefd6db0a7f7ab607fbc12d2738_IMAG01_37.jpg(110,600 bytes)\n",
      "write img\\풍작이에요, 마왕님!\\1화\\20250407185507_a928beefd6db0a7f7ab607fbc12d2738_IMAG01_38.jpg(157,216 bytes)\n",
      "write img\\풍작이에요, 마왕님!\\1화\\20250407185507_a928beefd6db0a7f7ab607fbc12d2738_IMAG01_39.jpg(140,749 bytes)\n",
      "write img\\풍작이에요, 마왕님!\\1화\\20250407185507_a928beefd6db0a7f7ab607fbc12d2738_IMAG01_40.jpg(114,981 bytes)\n",
      "write img\\풍작이에요, 마왕님!\\1화\\20250407185507_a928beefd6db0a7f7ab607fbc12d2738_IMAG01_41.jpg(173,462 bytes)\n",
      "write img\\풍작이에요, 마왕님!\\1화\\20250407185507_a928beefd6db0a7f7ab607fbc12d2738_IMAG01_42.jpg(231,301 bytes)\n",
      "write img\\풍작이에요, 마왕님!\\1화\\20250407185507_a928beefd6db0a7f7ab607fbc12d2738_IMAG01_43.jpg(179,789 bytes)\n",
      "write img\\풍작이에요, 마왕님!\\1화\\20250407185507_a928beefd6db0a7f7ab607fbc12d2738_IMAG01_44.jpg(130,494 bytes)\n",
      "write img\\풍작이에요, 마왕님!\\1화\\20250407185507_a928beefd6db0a7f7ab607fbc12d2738_IMAG01_45.jpg(119,625 bytes)\n",
      "write img\\풍작이에요, 마왕님!\\1화\\20250407185507_a928beefd6db0a7f7ab607fbc12d2738_IMAG01_46.jpg(152,692 bytes)\n",
      "write img\\풍작이에요, 마왕님!\\1화\\20250407185507_a928beefd6db0a7f7ab607fbc12d2738_IMAG01_47.jpg(229,415 bytes)\n",
      "write img\\풍작이에요, 마왕님!\\1화\\20250407185507_a928beefd6db0a7f7ab607fbc12d2738_IMAG01_48.jpg(172,360 bytes)\n",
      "write img\\풍작이에요, 마왕님!\\1화\\20250407185507_a928beefd6db0a7f7ab607fbc12d2738_IMAG01_49.jpg(172,104 bytes)\n",
      "write img\\풍작이에요, 마왕님!\\1화\\20250407185507_a928beefd6db0a7f7ab607fbc12d2738_IMAG01_50.jpg(126,989 bytes)\n",
      "write img\\풍작이에요, 마왕님!\\1화\\20250407185507_a928beefd6db0a7f7ab607fbc12d2738_IMAG01_51.jpg(118,653 bytes)\n",
      "write img\\풍작이에요, 마왕님!\\1화\\20250407185507_a928beefd6db0a7f7ab607fbc12d2738_IMAG01_52.jpg(145,662 bytes)\n",
      "write img\\풍작이에요, 마왕님!\\1화\\20250407185507_a928beefd6db0a7f7ab607fbc12d2738_IMAG01_53.jpg(166,173 bytes)\n",
      "write img\\풍작이에요, 마왕님!\\1화\\20250407185507_a928beefd6db0a7f7ab607fbc12d2738_IMAG01_54.jpg(256,481 bytes)\n",
      "write img\\풍작이에요, 마왕님!\\1화\\20250407185507_a928beefd6db0a7f7ab607fbc12d2738_IMAG01_55.jpg(156,358 bytes)\n",
      "write img\\풍작이에요, 마왕님!\\1화\\20250407185507_a928beefd6db0a7f7ab607fbc12d2738_IMAG01_56.jpg(121,130 bytes)\n",
      "write img\\풍작이에요, 마왕님!\\1화\\20250407185507_a928beefd6db0a7f7ab607fbc12d2738_IMAG01_57.jpg(120,643 bytes)\n",
      "write img\\풍작이에요, 마왕님!\\1화\\20250407185507_a928beefd6db0a7f7ab607fbc12d2738_IMAG01_58.jpg(174,916 bytes)\n",
      "write img\\풍작이에요, 마왕님!\\1화\\20250407185507_a928beefd6db0a7f7ab607fbc12d2738_IMAG01_59.jpg(160,334 bytes)\n",
      "write img\\풍작이에요, 마왕님!\\1화\\20250407185507_a928beefd6db0a7f7ab607fbc12d2738_IMAG01_60.jpg(172,112 bytes)\n",
      "write img\\풍작이에요, 마왕님!\\1화\\20250407185507_a928beefd6db0a7f7ab607fbc12d2738_IMAG01_61.jpg(143,527 bytes)\n",
      "write img\\풍작이에요, 마왕님!\\1화\\20250407185507_a928beefd6db0a7f7ab607fbc12d2738_IMAG01_62.jpg(190,231 bytes)\n",
      "write img\\풍작이에요, 마왕님!\\1화\\20250407185507_a928beefd6db0a7f7ab607fbc12d2738_IMAG01_63.jpg(207,577 bytes)\n",
      "write img\\풍작이에요, 마왕님!\\1화\\20250407185507_a928beefd6db0a7f7ab607fbc12d2738_IMAG01_64.jpg(155,216 bytes)\n",
      "write img\\풍작이에요, 마왕님!\\1화\\20250407185507_a928beefd6db0a7f7ab607fbc12d2738_IMAG01_65.jpg(286,997 bytes)\n",
      "write img\\풍작이에요, 마왕님!\\1화\\20250407185507_a928beefd6db0a7f7ab607fbc12d2738_IMAG01_66.jpg(131,805 bytes)\n",
      "write img\\풍작이에요, 마왕님!\\1화\\20250407185507_a928beefd6db0a7f7ab607fbc12d2738_IMAG01_67.jpg(158,913 bytes)\n",
      "write img\\풍작이에요, 마왕님!\\1화\\20250407185507_a928beefd6db0a7f7ab607fbc12d2738_IMAG01_68.jpg(215,870 bytes)\n",
      "write img\\풍작이에요, 마왕님!\\1화\\20250407185507_a928beefd6db0a7f7ab607fbc12d2738_IMAG01_69.jpg(147,259 bytes)\n",
      "write img\\풍작이에요, 마왕님!\\1화\\20250407185507_a928beefd6db0a7f7ab607fbc12d2738_IMAG01_70.jpg(203,090 bytes)\n",
      "write img\\풍작이에요, 마왕님!\\1화\\20250407185507_a928beefd6db0a7f7ab607fbc12d2738_IMAG01_71.jpg(141,787 bytes)\n",
      "write img\\풍작이에요, 마왕님!\\1화\\20250407185507_a928beefd6db0a7f7ab607fbc12d2738_IMAG01_72.jpg(138,795 bytes)\n",
      "write img\\풍작이에요, 마왕님!\\1화\\20250407185507_a928beefd6db0a7f7ab607fbc12d2738_IMAG01_73.jpg(123,389 bytes)\n",
      "write img\\풍작이에요, 마왕님!\\1화\\20250407185507_a928beefd6db0a7f7ab607fbc12d2738_IMAG01_74.jpg(148,957 bytes)\n",
      "write img\\풍작이에요, 마왕님!\\1화\\20250407185507_a928beefd6db0a7f7ab607fbc12d2738_IMAG01_75.jpg(168,555 bytes)\n",
      "write img\\풍작이에요, 마왕님!\\1화\\20250407185507_a928beefd6db0a7f7ab607fbc12d2738_IMAG01_76.jpg(164,844 bytes)\n",
      "write img\\풍작이에요, 마왕님!\\1화\\20250407185507_a928beefd6db0a7f7ab607fbc12d2738_IMAG01_77.jpg(201,986 bytes)\n",
      "write img\\풍작이에요, 마왕님!\\1화\\20250407185507_a928beefd6db0a7f7ab607fbc12d2738_IMAG01_78.jpg(193,638 bytes)\n",
      "write img\\풍작이에요, 마왕님!\\1화\\20250407185507_a928beefd6db0a7f7ab607fbc12d2738_IMAG01_79.jpg(155,978 bytes)\n",
      "write img\\풍작이에요, 마왕님!\\1화\\20250407185507_a928beefd6db0a7f7ab607fbc12d2738_IMAG01_80.jpg(127,654 bytes)\n",
      "write img\\풍작이에요, 마왕님!\\1화\\20250407185507_a928beefd6db0a7f7ab607fbc12d2738_IMAG01_81.jpg(171,100 bytes)\n",
      "write img\\풍작이에요, 마왕님!\\1화\\20250407185507_a928beefd6db0a7f7ab607fbc12d2738_IMAG01_82.jpg(170,476 bytes)\n",
      "write img\\풍작이에요, 마왕님!\\1화\\20250407185507_a928beefd6db0a7f7ab607fbc12d2738_IMAG01_83.jpg(105,882 bytes)\n",
      "write img\\풍작이에요, 마왕님!\\1화\\20250407185507_a928beefd6db0a7f7ab607fbc12d2738_IMAG01_84.jpg(163,214 bytes)\n",
      "write img\\풍작이에요, 마왕님!\\1화\\20250407185507_a928beefd6db0a7f7ab607fbc12d2738_IMAG01_85.jpg(207,083 bytes)\n",
      "write img\\풍작이에요, 마왕님!\\1화\\20250407185507_a928beefd6db0a7f7ab607fbc12d2738_IMAG01_86.jpg(240,631 bytes)\n",
      "write img\\풍작이에요, 마왕님!\\1화\\20250407185507_a928beefd6db0a7f7ab607fbc12d2738_IMAG01_87.jpg(188,838 bytes)\n",
      "write img\\풍작이에요, 마왕님!\\1화\\20250407185507_a928beefd6db0a7f7ab607fbc12d2738_IMAG01_88.jpg(207,748 bytes)\n",
      "write img\\풍작이에요, 마왕님!\\1화\\20250407185507_a928beefd6db0a7f7ab607fbc12d2738_IMAG01_89.jpg(242,892 bytes)\n",
      "write img\\풍작이에요, 마왕님!\\1화\\20250407185507_a928beefd6db0a7f7ab607fbc12d2738_IMAG01_90.jpg(195,581 bytes)\n",
      "write img\\풍작이에요, 마왕님!\\1화\\20250407185507_a928beefd6db0a7f7ab607fbc12d2738_IMAG01_91.jpg(254,090 bytes)\n",
      "write img\\풍작이에요, 마왕님!\\1화\\20250407185507_a928beefd6db0a7f7ab607fbc12d2738_IMAG01_92.jpg(335,196 bytes)\n",
      "write img\\풍작이에요, 마왕님!\\1화\\20250407185507_a928beefd6db0a7f7ab607fbc12d2738_IMAG01_93.jpg(209,706 bytes)\n",
      "write img\\풍작이에요, 마왕님!\\1화\\20250407185507_a928beefd6db0a7f7ab607fbc12d2738_IMAG01_94.jpg(174,187 bytes)\n",
      "write img\\풍작이에요, 마왕님!\\1화\\20250407185507_a928beefd6db0a7f7ab607fbc12d2738_IMAG01_95.jpg(183,225 bytes)\n",
      "write img\\풍작이에요, 마왕님!\\1화\\20250407185507_a928beefd6db0a7f7ab607fbc12d2738_IMAG01_96.jpg(151,626 bytes)\n",
      "write img\\풍작이에요, 마왕님!\\1화\\20250407185507_a928beefd6db0a7f7ab607fbc12d2738_IMAG01_97.jpg(279,812 bytes)\n",
      "write img\\풍작이에요, 마왕님!\\1화\\20250407185507_a928beefd6db0a7f7ab607fbc12d2738_IMAG01_98.jpg(168,438 bytes)\n",
      "write img\\풍작이에요, 마왕님!\\1화\\20250407185507_a928beefd6db0a7f7ab607fbc12d2738_IMAG01_99.jpg(124,818 bytes)\n",
      "write img\\풍작이에요, 마왕님!\\1화\\20250407185507_a928beefd6db0a7f7ab607fbc12d2738_IMAG01_100.jpg(150,788 bytes)\n",
      "write img\\풍작이에요, 마왕님!\\1화\\20250407185507_a928beefd6db0a7f7ab607fbc12d2738_IMAG01_101.jpg(259,159 bytes)\n",
      "write img\\풍작이에요, 마왕님!\\1화\\20250407185507_a928beefd6db0a7f7ab607fbc12d2738_IMAG01_102.jpg(281,182 bytes)\n",
      "write img\\풍작이에요, 마왕님!\\1화\\20250407185507_a928beefd6db0a7f7ab607fbc12d2738_IMAG01_103.jpg(153,287 bytes)\n",
      "write img\\풍작이에요, 마왕님!\\1화\\20250407185507_a928beefd6db0a7f7ab607fbc12d2738_IMAG01_104.jpg(267,551 bytes)\n",
      "write img\\풍작이에요, 마왕님!\\1화\\20250407185507_a928beefd6db0a7f7ab607fbc12d2738_IMAG01_105.jpg(244,064 bytes)\n",
      "write img\\풍작이에요, 마왕님!\\1화\\20250407185507_a928beefd6db0a7f7ab607fbc12d2738_IMAG01_106.jpg(247,681 bytes)\n",
      "write img\\풍작이에요, 마왕님!\\1화\\20250407185507_a928beefd6db0a7f7ab607fbc12d2738_IMAG01_107.jpg(186,957 bytes)\n",
      "write img\\풍작이에요, 마왕님!\\1화\\20250407185507_a928beefd6db0a7f7ab607fbc12d2738_IMAG01_108.jpg(199,059 bytes)\n",
      "write img\\풍작이에요, 마왕님!\\1화\\20250407185507_a928beefd6db0a7f7ab607fbc12d2738_IMAG01_109.jpg(151,512 bytes)\n",
      "write img\\풍작이에요, 마왕님!\\1화\\20250407185507_a928beefd6db0a7f7ab607fbc12d2738_IMAG01_110.jpg(123,568 bytes)\n",
      "write img\\풍작이에요, 마왕님!\\1화\\20250407185507_a928beefd6db0a7f7ab607fbc12d2738_IMAG01_111.jpg(110,592 bytes)\n",
      "write img\\풍작이에요, 마왕님!\\1화\\20250407185507_a928beefd6db0a7f7ab607fbc12d2738_IMAG01_112.jpg(197,546 bytes)\n",
      "write img\\풍작이에요, 마왕님!\\1화\\20250407185507_a928beefd6db0a7f7ab607fbc12d2738_IMAG01_113.jpg(175,191 bytes)\n",
      "write img\\풍작이에요, 마왕님!\\1화\\20250407185507_a928beefd6db0a7f7ab607fbc12d2738_IMAG01_114.jpg(199,078 bytes)\n",
      "write img\\풍작이에요, 마왕님!\\1화\\20250407185507_a928beefd6db0a7f7ab607fbc12d2738_IMAG01_115.jpg(186,625 bytes)\n",
      "write img\\풍작이에요, 마왕님!\\1화\\20250407185507_a928beefd6db0a7f7ab607fbc12d2738_IMAG01_116.jpg(182,029 bytes)\n",
      "write img\\풍작이에요, 마왕님!\\1화\\20250407185507_a928beefd6db0a7f7ab607fbc12d2738_IMAG01_117.jpg(218,640 bytes)\n",
      "write img\\풍작이에요, 마왕님!\\1화\\20250407185507_a928beefd6db0a7f7ab607fbc12d2738_IMAG01_118.jpg(185,722 bytes)\n",
      "write img\\풍작이에요, 마왕님!\\1화\\20250407185507_a928beefd6db0a7f7ab607fbc12d2738_IMAG01_119.jpg(230,944 bytes)\n",
      "write img\\풍작이에요, 마왕님!\\1화\\20250407185507_a928beefd6db0a7f7ab607fbc12d2738_IMAG01_120.jpg(253,350 bytes)\n",
      "write img\\풍작이에요, 마왕님!\\1화\\20250407185507_a928beefd6db0a7f7ab607fbc12d2738_IMAG01_121.jpg(279,815 bytes)\n",
      "write img\\풍작이에요, 마왕님!\\1화\\20250407185507_a928beefd6db0a7f7ab607fbc12d2738_IMAG01_122.jpg(172,878 bytes)\n",
      "write img\\풍작이에요, 마왕님!\\1화\\20250407185507_a928beefd6db0a7f7ab607fbc12d2738_IMAG01_123.jpg(252,923 bytes)\n",
      "write img\\풍작이에요, 마왕님!\\1화\\20250407185507_a928beefd6db0a7f7ab607fbc12d2738_IMAG01_124.jpg(194,967 bytes)\n",
      "write img\\풍작이에요, 마왕님!\\1화\\20250407185507_a928beefd6db0a7f7ab607fbc12d2738_IMAG01_125.jpg(243,319 bytes)\n",
      "write img\\풍작이에요, 마왕님!\\1화\\20250407185507_a928beefd6db0a7f7ab607fbc12d2738_IMAG01_126.jpg(211,744 bytes)\n",
      "write img\\풍작이에요, 마왕님!\\1화\\20250407185507_a928beefd6db0a7f7ab607fbc12d2738_IMAG01_127.jpg(180,333 bytes)\n",
      "write img\\풍작이에요, 마왕님!\\1화\\20250407185507_a928beefd6db0a7f7ab607fbc12d2738_IMAG01_128.jpg(293,525 bytes)\n",
      "write img\\풍작이에요, 마왕님!\\1화\\20250407185507_a928beefd6db0a7f7ab607fbc12d2738_IMAG01_129.jpg(235,578 bytes)\n",
      "write img\\풍작이에요, 마왕님!\\1화\\20250407185507_a928beefd6db0a7f7ab607fbc12d2738_IMAG01_130.jpg(190,751 bytes)\n",
      "write img\\풍작이에요, 마왕님!\\1화\\20250407185507_a928beefd6db0a7f7ab607fbc12d2738_IMAG01_131.jpg(240,786 bytes)\n",
      "write img\\풍작이에요, 마왕님!\\1화\\20250407185507_a928beefd6db0a7f7ab607fbc12d2738_IMAG01_132.jpg(247,445 bytes)\n",
      "write img\\풍작이에요, 마왕님!\\1화\\20250407185507_a928beefd6db0a7f7ab607fbc12d2738_IMAG01_133.jpg(177,059 bytes)\n",
      "write img\\풍작이에요, 마왕님!\\1화\\20250407185507_a928beefd6db0a7f7ab607fbc12d2738_IMAG01_134.jpg(206,315 bytes)\n",
      "write img\\풍작이에요, 마왕님!\\1화\\20250407185507_a928beefd6db0a7f7ab607fbc12d2738_IMAG01_135.jpg(188,679 bytes)\n",
      "write img\\풍작이에요, 마왕님!\\1화\\20250407185507_a928beefd6db0a7f7ab607fbc12d2738_IMAG01_136.jpg(242,601 bytes)\n",
      "write img\\풍작이에요, 마왕님!\\1화\\20250407185507_a928beefd6db0a7f7ab607fbc12d2738_IMAG01_137.jpg(259,892 bytes)\n",
      "write img\\풍작이에요, 마왕님!\\1화\\20250407185507_a928beefd6db0a7f7ab607fbc12d2738_IMAG01_138.jpg(162,323 bytes)\n",
      "write img\\풍작이에요, 마왕님!\\1화\\20250407185507_a928beefd6db0a7f7ab607fbc12d2738_IMAG01_139.jpg(205,067 bytes)\n",
      "write img\\풍작이에요, 마왕님!\\1화\\20250407185507_a928beefd6db0a7f7ab607fbc12d2738_IMAG01_140.jpg(95,787 bytes)\n",
      "write img\\풍작이에요, 마왕님!\\1화\\20250407185507_a928beefd6db0a7f7ab607fbc12d2738_IMAG01_141.jpg(139,523 bytes)\n",
      "write img\\풍작이에요, 마왕님!\\1화\\20250407185507_a928beefd6db0a7f7ab607fbc12d2738_IMAG01_142.jpg(157,103 bytes)\n",
      "write img\\풍작이에요, 마왕님!\\1화\\20250407185507_a928beefd6db0a7f7ab607fbc12d2738_IMAG01_143.jpg(110,831 bytes)\n",
      "write img\\풍작이에요, 마왕님!\\1화\\20250407185507_a928beefd6db0a7f7ab607fbc12d2738_IMAG01_144.jpg(140,045 bytes)\n",
      "write img\\풍작이에요, 마왕님!\\1화\\20250407185507_a928beefd6db0a7f7ab607fbc12d2738_IMAG01_145.jpg(201,664 bytes)\n",
      "write img\\풍작이에요, 마왕님!\\1화\\20250407185507_a928beefd6db0a7f7ab607fbc12d2738_IMAG01_146.jpg(149,705 bytes)\n",
      "write img\\풍작이에요, 마왕님!\\1화\\20250407185507_a928beefd6db0a7f7ab607fbc12d2738_IMAG01_147.jpg(102,965 bytes)\n",
      "write img\\풍작이에요, 마왕님!\\1화\\20250407185507_a928beefd6db0a7f7ab607fbc12d2738_IMAG01_148.jpg(150,701 bytes)\n",
      "write img\\풍작이에요, 마왕님!\\1화\\20250407185507_a928beefd6db0a7f7ab607fbc12d2738_IMAG01_149.jpg(187,343 bytes)\n",
      "write img\\풍작이에요, 마왕님!\\1화\\20250407185507_a928beefd6db0a7f7ab607fbc12d2738_IMAG01_150.jpg(198,809 bytes)\n",
      "write img\\풍작이에요, 마왕님!\\1화\\20250407185507_a928beefd6db0a7f7ab607fbc12d2738_IMAG01_151.jpg(191,296 bytes)\n",
      "write img\\풍작이에요, 마왕님!\\1화\\20250407185507_a928beefd6db0a7f7ab607fbc12d2738_IMAG01_152.jpg(194,737 bytes)\n",
      "write img\\풍작이에요, 마왕님!\\1화\\20250407185507_a928beefd6db0a7f7ab607fbc12d2738_IMAG01_153.jpg(133,558 bytes)\n",
      "write img\\풍작이에요, 마왕님!\\1화\\20250407185507_a928beefd6db0a7f7ab607fbc12d2738_IMAG01_154.jpg(99,721 bytes)\n",
      "write img\\풍작이에요, 마왕님!\\1화\\20250407185507_a928beefd6db0a7f7ab607fbc12d2738_IMAG01_155.jpg(61,701 bytes)\n",
      "write img\\풍작이에요, 마왕님!\\2화\\20250407185509_a8a891431a75bb9f93763c91a8066d2c_IMAG01_1.jpg(73,322 bytes)\n",
      "write img\\풍작이에요, 마왕님!\\2화\\20250407185509_a8a891431a75bb9f93763c91a8066d2c_IMAG01_2.jpg(208,812 bytes)\n",
      "write img\\풍작이에요, 마왕님!\\2화\\20250407185509_a8a891431a75bb9f93763c91a8066d2c_IMAG01_3.jpg(144,942 bytes)\n",
      "write img\\풍작이에요, 마왕님!\\2화\\20250407185509_a8a891431a75bb9f93763c91a8066d2c_IMAG01_4.jpg(131,881 bytes)\n",
      "write img\\풍작이에요, 마왕님!\\2화\\20250407185509_a8a891431a75bb9f93763c91a8066d2c_IMAG01_5.jpg(241,958 bytes)\n",
      "write img\\풍작이에요, 마왕님!\\2화\\20250407185509_a8a891431a75bb9f93763c91a8066d2c_IMAG01_6.jpg(116,915 bytes)\n",
      "write img\\풍작이에요, 마왕님!\\2화\\20250407185509_a8a891431a75bb9f93763c91a8066d2c_IMAG01_7.jpg(144,934 bytes)\n",
      "write img\\풍작이에요, 마왕님!\\2화\\20250407185509_a8a891431a75bb9f93763c91a8066d2c_IMAG01_8.jpg(130,745 bytes)\n",
      "write img\\풍작이에요, 마왕님!\\2화\\20250407185509_a8a891431a75bb9f93763c91a8066d2c_IMAG01_9.jpg(201,081 bytes)\n",
      "write img\\풍작이에요, 마왕님!\\2화\\20250407185509_a8a891431a75bb9f93763c91a8066d2c_IMAG01_10.jpg(118,768 bytes)\n",
      "write img\\풍작이에요, 마왕님!\\2화\\20250407185509_a8a891431a75bb9f93763c91a8066d2c_IMAG01_11.jpg(108,219 bytes)\n",
      "write img\\풍작이에요, 마왕님!\\2화\\20250407185509_a8a891431a75bb9f93763c91a8066d2c_IMAG01_12.jpg(188,702 bytes)\n",
      "write img\\풍작이에요, 마왕님!\\2화\\20250407185509_a8a891431a75bb9f93763c91a8066d2c_IMAG01_13.jpg(128,483 bytes)\n",
      "write img\\풍작이에요, 마왕님!\\2화\\20250407185509_a8a891431a75bb9f93763c91a8066d2c_IMAG01_14.jpg(159,394 bytes)\n",
      "write img\\풍작이에요, 마왕님!\\2화\\20250407185509_a8a891431a75bb9f93763c91a8066d2c_IMAG01_15.jpg(291,287 bytes)\n",
      "write img\\풍작이에요, 마왕님!\\2화\\20250407185509_a8a891431a75bb9f93763c91a8066d2c_IMAG01_16.jpg(137,049 bytes)\n",
      "write img\\풍작이에요, 마왕님!\\2화\\20250407185509_a8a891431a75bb9f93763c91a8066d2c_IMAG01_17.jpg(184,265 bytes)\n",
      "write img\\풍작이에요, 마왕님!\\2화\\20250407185509_a8a891431a75bb9f93763c91a8066d2c_IMAG01_18.jpg(170,126 bytes)\n",
      "write img\\풍작이에요, 마왕님!\\2화\\20250407185509_a8a891431a75bb9f93763c91a8066d2c_IMAG01_19.jpg(235,849 bytes)\n",
      "write img\\풍작이에요, 마왕님!\\2화\\20250407185509_a8a891431a75bb9f93763c91a8066d2c_IMAG01_20.jpg(204,409 bytes)\n",
      "write img\\풍작이에요, 마왕님!\\2화\\20250407185509_a8a891431a75bb9f93763c91a8066d2c_IMAG01_21.jpg(177,426 bytes)\n",
      "write img\\풍작이에요, 마왕님!\\2화\\20250407185509_a8a891431a75bb9f93763c91a8066d2c_IMAG01_22.jpg(216,637 bytes)\n",
      "write img\\풍작이에요, 마왕님!\\2화\\20250407185509_a8a891431a75bb9f93763c91a8066d2c_IMAG01_23.jpg(212,273 bytes)\n",
      "write img\\풍작이에요, 마왕님!\\2화\\20250407185509_a8a891431a75bb9f93763c91a8066d2c_IMAG01_24.jpg(162,521 bytes)\n",
      "write img\\풍작이에요, 마왕님!\\2화\\20250407185509_a8a891431a75bb9f93763c91a8066d2c_IMAG01_25.jpg(176,850 bytes)\n",
      "write img\\풍작이에요, 마왕님!\\2화\\20250407185509_a8a891431a75bb9f93763c91a8066d2c_IMAG01_26.jpg(191,856 bytes)\n",
      "write img\\풍작이에요, 마왕님!\\2화\\20250407185509_a8a891431a75bb9f93763c91a8066d2c_IMAG01_27.jpg(254,068 bytes)\n",
      "write img\\풍작이에요, 마왕님!\\2화\\20250407185509_a8a891431a75bb9f93763c91a8066d2c_IMAG01_28.jpg(172,536 bytes)\n",
      "write img\\풍작이에요, 마왕님!\\2화\\20250407185509_a8a891431a75bb9f93763c91a8066d2c_IMAG01_29.jpg(202,028 bytes)\n",
      "write img\\풍작이에요, 마왕님!\\2화\\20250407185509_a8a891431a75bb9f93763c91a8066d2c_IMAG01_30.jpg(147,772 bytes)\n",
      "write img\\풍작이에요, 마왕님!\\2화\\20250407185509_a8a891431a75bb9f93763c91a8066d2c_IMAG01_31.jpg(127,755 bytes)\n",
      "write img\\풍작이에요, 마왕님!\\2화\\20250407185509_a8a891431a75bb9f93763c91a8066d2c_IMAG01_32.jpg(274,033 bytes)\n",
      "write img\\풍작이에요, 마왕님!\\2화\\20250407185509_a8a891431a75bb9f93763c91a8066d2c_IMAG01_33.jpg(247,559 bytes)\n",
      "write img\\풍작이에요, 마왕님!\\2화\\20250407185509_a8a891431a75bb9f93763c91a8066d2c_IMAG01_34.jpg(172,006 bytes)\n",
      "write img\\풍작이에요, 마왕님!\\2화\\20250407185509_a8a891431a75bb9f93763c91a8066d2c_IMAG01_35.jpg(240,091 bytes)\n",
      "write img\\풍작이에요, 마왕님!\\2화\\20250407185509_a8a891431a75bb9f93763c91a8066d2c_IMAG01_36.jpg(194,429 bytes)\n",
      "write img\\풍작이에요, 마왕님!\\2화\\20250407185509_a8a891431a75bb9f93763c91a8066d2c_IMAG01_37.jpg(306,988 bytes)\n",
      "write img\\풍작이에요, 마왕님!\\2화\\20250407185509_a8a891431a75bb9f93763c91a8066d2c_IMAG01_38.jpg(180,902 bytes)\n",
      "write img\\풍작이에요, 마왕님!\\2화\\20250407185509_a8a891431a75bb9f93763c91a8066d2c_IMAG01_39.jpg(178,483 bytes)\n",
      "write img\\풍작이에요, 마왕님!\\2화\\20250407185509_a8a891431a75bb9f93763c91a8066d2c_IMAG01_40.jpg(245,770 bytes)\n",
      "write img\\풍작이에요, 마왕님!\\2화\\20250407185509_a8a891431a75bb9f93763c91a8066d2c_IMAG01_41.jpg(131,056 bytes)\n",
      "write img\\풍작이에요, 마왕님!\\2화\\20250407185509_a8a891431a75bb9f93763c91a8066d2c_IMAG01_42.jpg(188,543 bytes)\n",
      "write img\\풍작이에요, 마왕님!\\2화\\20250407185509_a8a891431a75bb9f93763c91a8066d2c_IMAG01_43.jpg(317,915 bytes)\n",
      "write img\\풍작이에요, 마왕님!\\2화\\20250407185509_a8a891431a75bb9f93763c91a8066d2c_IMAG01_44.jpg(152,178 bytes)\n",
      "write img\\풍작이에요, 마왕님!\\2화\\20250407185509_a8a891431a75bb9f93763c91a8066d2c_IMAG01_45.jpg(177,359 bytes)\n",
      "write img\\풍작이에요, 마왕님!\\2화\\20250407185509_a8a891431a75bb9f93763c91a8066d2c_IMAG01_46.jpg(129,666 bytes)\n",
      "write img\\풍작이에요, 마왕님!\\2화\\20250407185509_a8a891431a75bb9f93763c91a8066d2c_IMAG01_47.jpg(213,212 bytes)\n",
      "write img\\풍작이에요, 마왕님!\\2화\\20250407185509_a8a891431a75bb9f93763c91a8066d2c_IMAG01_48.jpg(163,911 bytes)\n",
      "write img\\풍작이에요, 마왕님!\\2화\\20250407185509_a8a891431a75bb9f93763c91a8066d2c_IMAG01_49.jpg(114,746 bytes)\n",
      "write img\\풍작이에요, 마왕님!\\2화\\20250407185509_a8a891431a75bb9f93763c91a8066d2c_IMAG01_50.jpg(137,670 bytes)\n",
      "write img\\풍작이에요, 마왕님!\\2화\\20250407185509_a8a891431a75bb9f93763c91a8066d2c_IMAG01_51.jpg(198,850 bytes)\n",
      "write img\\풍작이에요, 마왕님!\\2화\\20250407185509_a8a891431a75bb9f93763c91a8066d2c_IMAG01_52.jpg(131,101 bytes)\n",
      "write img\\풍작이에요, 마왕님!\\2화\\20250407185509_a8a891431a75bb9f93763c91a8066d2c_IMAG01_53.jpg(130,029 bytes)\n",
      "write img\\풍작이에요, 마왕님!\\2화\\20250407185509_a8a891431a75bb9f93763c91a8066d2c_IMAG01_54.jpg(141,593 bytes)\n",
      "write img\\풍작이에요, 마왕님!\\2화\\20250407185509_a8a891431a75bb9f93763c91a8066d2c_IMAG01_55.jpg(177,529 bytes)\n",
      "write img\\풍작이에요, 마왕님!\\2화\\20250407185509_a8a891431a75bb9f93763c91a8066d2c_IMAG01_56.jpg(145,551 bytes)\n",
      "write img\\풍작이에요, 마왕님!\\2화\\20250407185509_a8a891431a75bb9f93763c91a8066d2c_IMAG01_57.jpg(167,909 bytes)\n",
      "write img\\풍작이에요, 마왕님!\\2화\\20250407185509_a8a891431a75bb9f93763c91a8066d2c_IMAG01_58.jpg(178,378 bytes)\n",
      "write img\\풍작이에요, 마왕님!\\2화\\20250407185509_a8a891431a75bb9f93763c91a8066d2c_IMAG01_59.jpg(115,461 bytes)\n",
      "write img\\풍작이에요, 마왕님!\\2화\\20250407185509_a8a891431a75bb9f93763c91a8066d2c_IMAG01_60.jpg(260,706 bytes)\n",
      "write img\\풍작이에요, 마왕님!\\2화\\20250407185509_a8a891431a75bb9f93763c91a8066d2c_IMAG01_61.jpg(145,029 bytes)\n",
      "write img\\풍작이에요, 마왕님!\\2화\\20250407185509_a8a891431a75bb9f93763c91a8066d2c_IMAG01_62.jpg(204,498 bytes)\n",
      "write img\\풍작이에요, 마왕님!\\2화\\20250407185509_a8a891431a75bb9f93763c91a8066d2c_IMAG01_63.jpg(157,531 bytes)\n",
      "write img\\풍작이에요, 마왕님!\\2화\\20250407185509_a8a891431a75bb9f93763c91a8066d2c_IMAG01_64.jpg(163,298 bytes)\n",
      "write img\\풍작이에요, 마왕님!\\2화\\20250407185509_a8a891431a75bb9f93763c91a8066d2c_IMAG01_65.jpg(230,711 bytes)\n",
      "write img\\풍작이에요, 마왕님!\\2화\\20250407185509_a8a891431a75bb9f93763c91a8066d2c_IMAG01_66.jpg(182,855 bytes)\n",
      "write img\\풍작이에요, 마왕님!\\2화\\20250407185509_a8a891431a75bb9f93763c91a8066d2c_IMAG01_67.jpg(225,231 bytes)\n",
      "write img\\풍작이에요, 마왕님!\\2화\\20250407185509_a8a891431a75bb9f93763c91a8066d2c_IMAG01_68.jpg(214,016 bytes)\n",
      "write img\\풍작이에요, 마왕님!\\2화\\20250407185509_a8a891431a75bb9f93763c91a8066d2c_IMAG01_69.jpg(169,335 bytes)\n",
      "write img\\풍작이에요, 마왕님!\\2화\\20250407185509_a8a891431a75bb9f93763c91a8066d2c_IMAG01_70.jpg(157,903 bytes)\n",
      "write img\\풍작이에요, 마왕님!\\2화\\20250407185509_a8a891431a75bb9f93763c91a8066d2c_IMAG01_71.jpg(104,115 bytes)\n",
      "write img\\풍작이에요, 마왕님!\\2화\\20250407185509_a8a891431a75bb9f93763c91a8066d2c_IMAG01_72.jpg(107,466 bytes)\n",
      "write img\\풍작이에요, 마왕님!\\2화\\20250407185509_a8a891431a75bb9f93763c91a8066d2c_IMAG01_73.jpg(161,884 bytes)\n",
      "write img\\풍작이에요, 마왕님!\\2화\\20250407185509_a8a891431a75bb9f93763c91a8066d2c_IMAG01_74.jpg(179,258 bytes)\n",
      "write img\\풍작이에요, 마왕님!\\2화\\20250407185509_a8a891431a75bb9f93763c91a8066d2c_IMAG01_75.jpg(167,303 bytes)\n",
      "write img\\풍작이에요, 마왕님!\\2화\\20250407185509_a8a891431a75bb9f93763c91a8066d2c_IMAG01_76.jpg(205,953 bytes)\n",
      "write img\\풍작이에요, 마왕님!\\2화\\20250407185509_a8a891431a75bb9f93763c91a8066d2c_IMAG01_77.jpg(215,207 bytes)\n",
      "write img\\풍작이에요, 마왕님!\\2화\\20250407185509_a8a891431a75bb9f93763c91a8066d2c_IMAG01_78.jpg(265,605 bytes)\n",
      "write img\\풍작이에요, 마왕님!\\2화\\20250407185509_a8a891431a75bb9f93763c91a8066d2c_IMAG01_79.jpg(205,416 bytes)\n",
      "write img\\풍작이에요, 마왕님!\\2화\\20250407185509_a8a891431a75bb9f93763c91a8066d2c_IMAG01_80.jpg(138,808 bytes)\n",
      "write img\\풍작이에요, 마왕님!\\2화\\20250407185509_a8a891431a75bb9f93763c91a8066d2c_IMAG01_81.jpg(158,041 bytes)\n",
      "write img\\풍작이에요, 마왕님!\\2화\\20250407185509_a8a891431a75bb9f93763c91a8066d2c_IMAG01_82.jpg(132,312 bytes)\n",
      "write img\\풍작이에요, 마왕님!\\2화\\20250407185509_a8a891431a75bb9f93763c91a8066d2c_IMAG01_83.jpg(124,804 bytes)\n",
      "write img\\풍작이에요, 마왕님!\\2화\\20250407185509_a8a891431a75bb9f93763c91a8066d2c_IMAG01_84.jpg(144,099 bytes)\n",
      "write img\\풍작이에요, 마왕님!\\2화\\20250407185509_a8a891431a75bb9f93763c91a8066d2c_IMAG01_85.jpg(218,412 bytes)\n",
      "write img\\풍작이에요, 마왕님!\\2화\\20250407185509_a8a891431a75bb9f93763c91a8066d2c_IMAG01_86.jpg(188,425 bytes)\n",
      "write img\\풍작이에요, 마왕님!\\2화\\20250407185509_a8a891431a75bb9f93763c91a8066d2c_IMAG01_87.jpg(146,625 bytes)\n",
      "write img\\풍작이에요, 마왕님!\\2화\\20250407185509_a8a891431a75bb9f93763c91a8066d2c_IMAG01_88.jpg(148,958 bytes)\n",
      "write img\\풍작이에요, 마왕님!\\2화\\20250407185509_a8a891431a75bb9f93763c91a8066d2c_IMAG01_89.jpg(176,216 bytes)\n",
      "write img\\풍작이에요, 마왕님!\\2화\\20250407185509_a8a891431a75bb9f93763c91a8066d2c_IMAG01_90.jpg(156,158 bytes)\n",
      "write img\\풍작이에요, 마왕님!\\2화\\20250407185509_a8a891431a75bb9f93763c91a8066d2c_IMAG01_91.jpg(176,263 bytes)\n",
      "write img\\풍작이에요, 마왕님!\\2화\\20250407185509_a8a891431a75bb9f93763c91a8066d2c_IMAG01_92.jpg(166,162 bytes)\n",
      "write img\\풍작이에요, 마왕님!\\2화\\20250407185509_a8a891431a75bb9f93763c91a8066d2c_IMAG01_93.jpg(149,741 bytes)\n",
      "write img\\풍작이에요, 마왕님!\\2화\\20250407185509_a8a891431a75bb9f93763c91a8066d2c_IMAG01_94.jpg(228,357 bytes)\n",
      "write img\\풍작이에요, 마왕님!\\2화\\20250407185509_a8a891431a75bb9f93763c91a8066d2c_IMAG01_95.jpg(160,243 bytes)\n",
      "write img\\풍작이에요, 마왕님!\\2화\\20250407185509_a8a891431a75bb9f93763c91a8066d2c_IMAG01_96.jpg(167,167 bytes)\n",
      "write img\\풍작이에요, 마왕님!\\2화\\20250407185509_a8a891431a75bb9f93763c91a8066d2c_IMAG01_97.jpg(224,005 bytes)\n",
      "write img\\풍작이에요, 마왕님!\\2화\\20250407185509_a8a891431a75bb9f93763c91a8066d2c_IMAG01_98.jpg(234,392 bytes)\n",
      "write img\\풍작이에요, 마왕님!\\2화\\20250407185509_a8a891431a75bb9f93763c91a8066d2c_IMAG01_99.jpg(187,838 bytes)\n",
      "write img\\풍작이에요, 마왕님!\\2화\\20250407185509_a8a891431a75bb9f93763c91a8066d2c_IMAG01_100.jpg(221,410 bytes)\n",
      "write img\\풍작이에요, 마왕님!\\2화\\20250407185509_a8a891431a75bb9f93763c91a8066d2c_IMAG01_101.jpg(126,490 bytes)\n",
      "write img\\풍작이에요, 마왕님!\\2화\\20250407185509_a8a891431a75bb9f93763c91a8066d2c_IMAG01_102.jpg(133,506 bytes)\n",
      "write img\\풍작이에요, 마왕님!\\2화\\20250407185509_a8a891431a75bb9f93763c91a8066d2c_IMAG01_103.jpg(212,851 bytes)\n",
      "write img\\풍작이에요, 마왕님!\\2화\\20250407185509_a8a891431a75bb9f93763c91a8066d2c_IMAG01_104.jpg(212,121 bytes)\n",
      "write img\\풍작이에요, 마왕님!\\2화\\20250407185509_a8a891431a75bb9f93763c91a8066d2c_IMAG01_105.jpg(244,880 bytes)\n",
      "write img\\풍작이에요, 마왕님!\\2화\\20250407185509_a8a891431a75bb9f93763c91a8066d2c_IMAG01_106.jpg(187,532 bytes)\n",
      "write img\\풍작이에요, 마왕님!\\2화\\20250407185509_a8a891431a75bb9f93763c91a8066d2c_IMAG01_107.jpg(164,060 bytes)\n",
      "write img\\풍작이에요, 마왕님!\\2화\\20250407185509_a8a891431a75bb9f93763c91a8066d2c_IMAG01_108.jpg(231,748 bytes)\n",
      "write img\\풍작이에요, 마왕님!\\2화\\20250407185509_a8a891431a75bb9f93763c91a8066d2c_IMAG01_109.jpg(196,366 bytes)\n",
      "write img\\풍작이에요, 마왕님!\\2화\\20250407185509_a8a891431a75bb9f93763c91a8066d2c_IMAG01_110.jpg(211,070 bytes)\n",
      "write img\\풍작이에요, 마왕님!\\2화\\20250407185509_a8a891431a75bb9f93763c91a8066d2c_IMAG01_111.jpg(206,552 bytes)\n",
      "write img\\풍작이에요, 마왕님!\\2화\\20250407185509_a8a891431a75bb9f93763c91a8066d2c_IMAG01_112.jpg(69,273 bytes)\n",
      "write img\\풍작이에요, 마왕님!\\2화\\20250407185509_a8a891431a75bb9f93763c91a8066d2c_IMAG01_113.jpg(158,647 bytes)\n",
      "write img\\풍작이에요, 마왕님!\\2화\\20250407185509_a8a891431a75bb9f93763c91a8066d2c_IMAG01_114.jpg(196,244 bytes)\n",
      "write img\\풍작이에요, 마왕님!\\2화\\20250407185509_a8a891431a75bb9f93763c91a8066d2c_IMAG01_115.jpg(177,585 bytes)\n",
      "write img\\풍작이에요, 마왕님!\\2화\\20250407185509_a8a891431a75bb9f93763c91a8066d2c_IMAG01_116.jpg(188,325 bytes)\n",
      "write img\\풍작이에요, 마왕님!\\2화\\20250407185509_a8a891431a75bb9f93763c91a8066d2c_IMAG01_117.jpg(194,132 bytes)\n",
      "write img\\풍작이에요, 마왕님!\\2화\\20250407185509_a8a891431a75bb9f93763c91a8066d2c_IMAG01_118.jpg(165,720 bytes)\n",
      "write img\\풍작이에요, 마왕님!\\2화\\20250407185509_a8a891431a75bb9f93763c91a8066d2c_IMAG01_119.jpg(227,593 bytes)\n",
      "write img\\풍작이에요, 마왕님!\\2화\\20250407185509_a8a891431a75bb9f93763c91a8066d2c_IMAG01_120.jpg(166,714 bytes)\n",
      "write img\\풍작이에요, 마왕님!\\2화\\20250407185509_a8a891431a75bb9f93763c91a8066d2c_IMAG01_121.jpg(250,842 bytes)\n",
      "write img\\풍작이에요, 마왕님!\\2화\\20250407185509_a8a891431a75bb9f93763c91a8066d2c_IMAG01_122.jpg(181,750 bytes)\n",
      "write img\\풍작이에요, 마왕님!\\2화\\20250407185509_a8a891431a75bb9f93763c91a8066d2c_IMAG01_123.jpg(215,398 bytes)\n",
      "write img\\풍작이에요, 마왕님!\\2화\\20250407185509_a8a891431a75bb9f93763c91a8066d2c_IMAG01_124.jpg(164,571 bytes)\n",
      "write img\\풍작이에요, 마왕님!\\2화\\20250407185509_a8a891431a75bb9f93763c91a8066d2c_IMAG01_125.jpg(178,865 bytes)\n",
      "write img\\풍작이에요, 마왕님!\\2화\\20250407185509_a8a891431a75bb9f93763c91a8066d2c_IMAG01_126.jpg(171,843 bytes)\n",
      "write img\\풍작이에요, 마왕님!\\2화\\20250407185509_a8a891431a75bb9f93763c91a8066d2c_IMAG01_127.jpg(65,019 bytes)\n",
      "write img\\풍작이에요, 마왕님!\\2화\\20250407185509_a8a891431a75bb9f93763c91a8066d2c_IMAG01_128.jpg(171,570 bytes)\n",
      "write img\\풍작이에요, 마왕님!\\2화\\20250407185509_a8a891431a75bb9f93763c91a8066d2c_IMAG01_129.jpg(17,825 bytes)\n",
      "write img\\풍작이에요, 마왕님!\\3화\\20250407185539_9693dcefff101b0dd11bfd2baeb6d938_IMAG01_1.jpg(83,330 bytes)\n",
      "write img\\풍작이에요, 마왕님!\\3화\\20250407185539_9693dcefff101b0dd11bfd2baeb6d938_IMAG01_2.jpg(133,504 bytes)\n",
      "write img\\풍작이에요, 마왕님!\\3화\\20250407185539_9693dcefff101b0dd11bfd2baeb6d938_IMAG01_3.jpg(159,560 bytes)\n",
      "write img\\풍작이에요, 마왕님!\\3화\\20250407185539_9693dcefff101b0dd11bfd2baeb6d938_IMAG01_4.jpg(198,185 bytes)\n",
      "write img\\풍작이에요, 마왕님!\\3화\\20250407185539_9693dcefff101b0dd11bfd2baeb6d938_IMAG01_5.jpg(157,251 bytes)\n",
      "write img\\풍작이에요, 마왕님!\\3화\\20250407185539_9693dcefff101b0dd11bfd2baeb6d938_IMAG01_6.jpg(178,442 bytes)\n",
      "write img\\풍작이에요, 마왕님!\\3화\\20250407185539_9693dcefff101b0dd11bfd2baeb6d938_IMAG01_7.jpg(173,321 bytes)\n",
      "write img\\풍작이에요, 마왕님!\\3화\\20250407185539_9693dcefff101b0dd11bfd2baeb6d938_IMAG01_8.jpg(95,634 bytes)\n",
      "write img\\풍작이에요, 마왕님!\\3화\\20250407185539_9693dcefff101b0dd11bfd2baeb6d938_IMAG01_9.jpg(171,815 bytes)\n",
      "write img\\풍작이에요, 마왕님!\\3화\\20250407185539_9693dcefff101b0dd11bfd2baeb6d938_IMAG01_10.jpg(207,956 bytes)\n",
      "write img\\풍작이에요, 마왕님!\\3화\\20250407185539_9693dcefff101b0dd11bfd2baeb6d938_IMAG01_11.jpg(186,626 bytes)\n",
      "write img\\풍작이에요, 마왕님!\\3화\\20250407185539_9693dcefff101b0dd11bfd2baeb6d938_IMAG01_12.jpg(182,490 bytes)\n",
      "write img\\풍작이에요, 마왕님!\\3화\\20250407185539_9693dcefff101b0dd11bfd2baeb6d938_IMAG01_13.jpg(232,337 bytes)\n",
      "write img\\풍작이에요, 마왕님!\\3화\\20250407185539_9693dcefff101b0dd11bfd2baeb6d938_IMAG01_14.jpg(136,162 bytes)\n",
      "write img\\풍작이에요, 마왕님!\\3화\\20250407185539_9693dcefff101b0dd11bfd2baeb6d938_IMAG01_15.jpg(232,440 bytes)\n",
      "write img\\풍작이에요, 마왕님!\\3화\\20250407185539_9693dcefff101b0dd11bfd2baeb6d938_IMAG01_16.jpg(245,406 bytes)\n",
      "write img\\풍작이에요, 마왕님!\\3화\\20250407185539_9693dcefff101b0dd11bfd2baeb6d938_IMAG01_17.jpg(157,084 bytes)\n",
      "write img\\풍작이에요, 마왕님!\\3화\\20250407185539_9693dcefff101b0dd11bfd2baeb6d938_IMAG01_18.jpg(179,158 bytes)\n",
      "write img\\풍작이에요, 마왕님!\\3화\\20250407185539_9693dcefff101b0dd11bfd2baeb6d938_IMAG01_19.jpg(260,848 bytes)\n",
      "write img\\풍작이에요, 마왕님!\\3화\\20250407185539_9693dcefff101b0dd11bfd2baeb6d938_IMAG01_20.jpg(176,265 bytes)\n",
      "write img\\풍작이에요, 마왕님!\\3화\\20250407185539_9693dcefff101b0dd11bfd2baeb6d938_IMAG01_21.jpg(156,209 bytes)\n",
      "write img\\풍작이에요, 마왕님!\\3화\\20250407185539_9693dcefff101b0dd11bfd2baeb6d938_IMAG01_22.jpg(181,033 bytes)\n",
      "write img\\풍작이에요, 마왕님!\\3화\\20250407185539_9693dcefff101b0dd11bfd2baeb6d938_IMAG01_23.jpg(150,010 bytes)\n",
      "write img\\풍작이에요, 마왕님!\\3화\\20250407185539_9693dcefff101b0dd11bfd2baeb6d938_IMAG01_24.jpg(194,096 bytes)\n",
      "write img\\풍작이에요, 마왕님!\\3화\\20250407185539_9693dcefff101b0dd11bfd2baeb6d938_IMAG01_25.jpg(178,758 bytes)\n",
      "write img\\풍작이에요, 마왕님!\\3화\\20250407185539_9693dcefff101b0dd11bfd2baeb6d938_IMAG01_26.jpg(211,097 bytes)\n",
      "write img\\풍작이에요, 마왕님!\\3화\\20250407185539_9693dcefff101b0dd11bfd2baeb6d938_IMAG01_27.jpg(145,343 bytes)\n",
      "write img\\풍작이에요, 마왕님!\\3화\\20250407185539_9693dcefff101b0dd11bfd2baeb6d938_IMAG01_28.jpg(211,961 bytes)\n",
      "write img\\풍작이에요, 마왕님!\\3화\\20250407185539_9693dcefff101b0dd11bfd2baeb6d938_IMAG01_29.jpg(199,575 bytes)\n",
      "write img\\풍작이에요, 마왕님!\\3화\\20250407185539_9693dcefff101b0dd11bfd2baeb6d938_IMAG01_30.jpg(221,488 bytes)\n",
      "write img\\풍작이에요, 마왕님!\\3화\\20250407185539_9693dcefff101b0dd11bfd2baeb6d938_IMAG01_31.jpg(195,095 bytes)\n",
      "write img\\풍작이에요, 마왕님!\\3화\\20250407185539_9693dcefff101b0dd11bfd2baeb6d938_IMAG01_32.jpg(162,970 bytes)\n",
      "write img\\풍작이에요, 마왕님!\\3화\\20250407185539_9693dcefff101b0dd11bfd2baeb6d938_IMAG01_33.jpg(202,089 bytes)\n",
      "write img\\풍작이에요, 마왕님!\\3화\\20250407185539_9693dcefff101b0dd11bfd2baeb6d938_IMAG01_34.jpg(225,564 bytes)\n",
      "write img\\풍작이에요, 마왕님!\\3화\\20250407185539_9693dcefff101b0dd11bfd2baeb6d938_IMAG01_35.jpg(195,928 bytes)\n",
      "write img\\풍작이에요, 마왕님!\\3화\\20250407185539_9693dcefff101b0dd11bfd2baeb6d938_IMAG01_36.jpg(192,013 bytes)\n",
      "write img\\풍작이에요, 마왕님!\\3화\\20250407185539_9693dcefff101b0dd11bfd2baeb6d938_IMAG01_37.jpg(202,215 bytes)\n",
      "write img\\풍작이에요, 마왕님!\\3화\\20250407185539_9693dcefff101b0dd11bfd2baeb6d938_IMAG01_38.jpg(145,068 bytes)\n",
      "write img\\풍작이에요, 마왕님!\\3화\\20250407185539_9693dcefff101b0dd11bfd2baeb6d938_IMAG01_39.jpg(129,665 bytes)\n",
      "write img\\풍작이에요, 마왕님!\\3화\\20250407185539_9693dcefff101b0dd11bfd2baeb6d938_IMAG01_40.jpg(309,104 bytes)\n",
      "write img\\풍작이에요, 마왕님!\\3화\\20250407185539_9693dcefff101b0dd11bfd2baeb6d938_IMAG01_41.jpg(168,138 bytes)\n",
      "write img\\풍작이에요, 마왕님!\\3화\\20250407185539_9693dcefff101b0dd11bfd2baeb6d938_IMAG01_42.jpg(161,050 bytes)\n",
      "write img\\풍작이에요, 마왕님!\\3화\\20250407185539_9693dcefff101b0dd11bfd2baeb6d938_IMAG01_43.jpg(209,739 bytes)\n",
      "write img\\풍작이에요, 마왕님!\\3화\\20250407185539_9693dcefff101b0dd11bfd2baeb6d938_IMAG01_44.jpg(210,559 bytes)\n",
      "write img\\풍작이에요, 마왕님!\\3화\\20250407185539_9693dcefff101b0dd11bfd2baeb6d938_IMAG01_45.jpg(146,033 bytes)\n",
      "write img\\풍작이에요, 마왕님!\\3화\\20250407185539_9693dcefff101b0dd11bfd2baeb6d938_IMAG01_46.jpg(185,971 bytes)\n",
      "write img\\풍작이에요, 마왕님!\\3화\\20250407185539_9693dcefff101b0dd11bfd2baeb6d938_IMAG01_47.jpg(147,178 bytes)\n",
      "write img\\풍작이에요, 마왕님!\\3화\\20250407185539_9693dcefff101b0dd11bfd2baeb6d938_IMAG01_48.jpg(107,083 bytes)\n",
      "write img\\풍작이에요, 마왕님!\\3화\\20250407185539_9693dcefff101b0dd11bfd2baeb6d938_IMAG01_49.jpg(182,347 bytes)\n",
      "write img\\풍작이에요, 마왕님!\\3화\\20250407185539_9693dcefff101b0dd11bfd2baeb6d938_IMAG01_50.jpg(215,126 bytes)\n",
      "write img\\풍작이에요, 마왕님!\\3화\\20250407185539_9693dcefff101b0dd11bfd2baeb6d938_IMAG01_51.jpg(203,010 bytes)\n",
      "write img\\풍작이에요, 마왕님!\\3화\\20250407185539_9693dcefff101b0dd11bfd2baeb6d938_IMAG01_52.jpg(141,605 bytes)\n",
      "write img\\풍작이에요, 마왕님!\\3화\\20250407185539_9693dcefff101b0dd11bfd2baeb6d938_IMAG01_53.jpg(158,516 bytes)\n",
      "write img\\풍작이에요, 마왕님!\\3화\\20250407185539_9693dcefff101b0dd11bfd2baeb6d938_IMAG01_54.jpg(114,672 bytes)\n",
      "write img\\풍작이에요, 마왕님!\\3화\\20250407185539_9693dcefff101b0dd11bfd2baeb6d938_IMAG01_55.jpg(261,192 bytes)\n",
      "write img\\풍작이에요, 마왕님!\\3화\\20250407185539_9693dcefff101b0dd11bfd2baeb6d938_IMAG01_56.jpg(97,527 bytes)\n",
      "write img\\풍작이에요, 마왕님!\\3화\\20250407185539_9693dcefff101b0dd11bfd2baeb6d938_IMAG01_57.jpg(183,363 bytes)\n",
      "write img\\풍작이에요, 마왕님!\\3화\\20250407185539_9693dcefff101b0dd11bfd2baeb6d938_IMAG01_58.jpg(143,893 bytes)\n",
      "write img\\풍작이에요, 마왕님!\\3화\\20250407185539_9693dcefff101b0dd11bfd2baeb6d938_IMAG01_59.jpg(181,080 bytes)\n",
      "write img\\풍작이에요, 마왕님!\\3화\\20250407185539_9693dcefff101b0dd11bfd2baeb6d938_IMAG01_60.jpg(122,191 bytes)\n",
      "write img\\풍작이에요, 마왕님!\\3화\\20250407185539_9693dcefff101b0dd11bfd2baeb6d938_IMAG01_61.jpg(164,749 bytes)\n",
      "write img\\풍작이에요, 마왕님!\\3화\\20250407185539_9693dcefff101b0dd11bfd2baeb6d938_IMAG01_62.jpg(227,955 bytes)\n",
      "write img\\풍작이에요, 마왕님!\\3화\\20250407185539_9693dcefff101b0dd11bfd2baeb6d938_IMAG01_63.jpg(203,100 bytes)\n",
      "write img\\풍작이에요, 마왕님!\\3화\\20250407185539_9693dcefff101b0dd11bfd2baeb6d938_IMAG01_64.jpg(138,278 bytes)\n",
      "write img\\풍작이에요, 마왕님!\\3화\\20250407185539_9693dcefff101b0dd11bfd2baeb6d938_IMAG01_65.jpg(162,134 bytes)\n",
      "write img\\풍작이에요, 마왕님!\\3화\\20250407185539_9693dcefff101b0dd11bfd2baeb6d938_IMAG01_66.jpg(150,007 bytes)\n",
      "write img\\풍작이에요, 마왕님!\\3화\\20250407185539_9693dcefff101b0dd11bfd2baeb6d938_IMAG01_67.jpg(164,544 bytes)\n",
      "write img\\풍작이에요, 마왕님!\\3화\\20250407185539_9693dcefff101b0dd11bfd2baeb6d938_IMAG01_68.jpg(232,630 bytes)\n",
      "write img\\풍작이에요, 마왕님!\\3화\\20250407185539_9693dcefff101b0dd11bfd2baeb6d938_IMAG01_69.jpg(194,449 bytes)\n",
      "write img\\풍작이에요, 마왕님!\\3화\\20250407185539_9693dcefff101b0dd11bfd2baeb6d938_IMAG01_70.jpg(100,228 bytes)\n",
      "write img\\풍작이에요, 마왕님!\\3화\\20250407185539_9693dcefff101b0dd11bfd2baeb6d938_IMAG01_71.jpg(198,906 bytes)\n",
      "write img\\풍작이에요, 마왕님!\\3화\\20250407185539_9693dcefff101b0dd11bfd2baeb6d938_IMAG01_72.jpg(201,972 bytes)\n",
      "write img\\풍작이에요, 마왕님!\\3화\\20250407185539_9693dcefff101b0dd11bfd2baeb6d938_IMAG01_73.jpg(169,443 bytes)\n",
      "write img\\풍작이에요, 마왕님!\\3화\\20250407185539_9693dcefff101b0dd11bfd2baeb6d938_IMAG01_74.jpg(200,556 bytes)\n",
      "write img\\풍작이에요, 마왕님!\\3화\\20250407185539_9693dcefff101b0dd11bfd2baeb6d938_IMAG01_75.jpg(141,168 bytes)\n",
      "write img\\풍작이에요, 마왕님!\\3화\\20250407185539_9693dcefff101b0dd11bfd2baeb6d938_IMAG01_76.jpg(173,268 bytes)\n",
      "write img\\풍작이에요, 마왕님!\\3화\\20250407185539_9693dcefff101b0dd11bfd2baeb6d938_IMAG01_77.jpg(220,062 bytes)\n",
      "write img\\풍작이에요, 마왕님!\\3화\\20250407185539_9693dcefff101b0dd11bfd2baeb6d938_IMAG01_78.jpg(147,432 bytes)\n",
      "write img\\풍작이에요, 마왕님!\\3화\\20250407185539_9693dcefff101b0dd11bfd2baeb6d938_IMAG01_79.jpg(120,040 bytes)\n",
      "write img\\풍작이에요, 마왕님!\\3화\\20250407185539_9693dcefff101b0dd11bfd2baeb6d938_IMAG01_80.jpg(132,207 bytes)\n",
      "write img\\풍작이에요, 마왕님!\\3화\\20250407185539_9693dcefff101b0dd11bfd2baeb6d938_IMAG01_81.jpg(132,335 bytes)\n",
      "write img\\풍작이에요, 마왕님!\\3화\\20250407185539_9693dcefff101b0dd11bfd2baeb6d938_IMAG01_82.jpg(105,335 bytes)\n",
      "write img\\풍작이에요, 마왕님!\\3화\\20250407185539_9693dcefff101b0dd11bfd2baeb6d938_IMAG01_83.jpg(156,184 bytes)\n",
      "write img\\풍작이에요, 마왕님!\\3화\\20250407185539_9693dcefff101b0dd11bfd2baeb6d938_IMAG01_84.jpg(192,934 bytes)\n",
      "write img\\풍작이에요, 마왕님!\\3화\\20250407185539_9693dcefff101b0dd11bfd2baeb6d938_IMAG01_85.jpg(272,748 bytes)\n",
      "write img\\풍작이에요, 마왕님!\\3화\\20250407185539_9693dcefff101b0dd11bfd2baeb6d938_IMAG01_86.jpg(212,864 bytes)\n",
      "write img\\풍작이에요, 마왕님!\\3화\\20250407185539_9693dcefff101b0dd11bfd2baeb6d938_IMAG01_87.jpg(207,386 bytes)\n",
      "write img\\풍작이에요, 마왕님!\\3화\\20250407185539_9693dcefff101b0dd11bfd2baeb6d938_IMAG01_88.jpg(174,765 bytes)\n",
      "write img\\풍작이에요, 마왕님!\\3화\\20250407185539_9693dcefff101b0dd11bfd2baeb6d938_IMAG01_89.jpg(239,509 bytes)\n",
      "write img\\풍작이에요, 마왕님!\\3화\\20250407185539_9693dcefff101b0dd11bfd2baeb6d938_IMAG01_90.jpg(156,490 bytes)\n",
      "write img\\풍작이에요, 마왕님!\\3화\\20250407185539_9693dcefff101b0dd11bfd2baeb6d938_IMAG01_91.jpg(87,498 bytes)\n",
      "write img\\풍작이에요, 마왕님!\\3화\\20250407185539_9693dcefff101b0dd11bfd2baeb6d938_IMAG01_92.jpg(184,655 bytes)\n",
      "write img\\풍작이에요, 마왕님!\\3화\\20250407185539_9693dcefff101b0dd11bfd2baeb6d938_IMAG01_93.jpg(171,928 bytes)\n",
      "write img\\풍작이에요, 마왕님!\\3화\\20250407185539_9693dcefff101b0dd11bfd2baeb6d938_IMAG01_94.jpg(170,663 bytes)\n",
      "write img\\풍작이에요, 마왕님!\\3화\\20250407185539_9693dcefff101b0dd11bfd2baeb6d938_IMAG01_95.jpg(159,658 bytes)\n",
      "write img\\풍작이에요, 마왕님!\\3화\\20250407185539_9693dcefff101b0dd11bfd2baeb6d938_IMAG01_96.jpg(167,152 bytes)\n",
      "write img\\풍작이에요, 마왕님!\\3화\\20250407185539_9693dcefff101b0dd11bfd2baeb6d938_IMAG01_97.jpg(202,267 bytes)\n",
      "write img\\풍작이에요, 마왕님!\\3화\\20250407185539_9693dcefff101b0dd11bfd2baeb6d938_IMAG01_98.jpg(187,179 bytes)\n",
      "write img\\풍작이에요, 마왕님!\\3화\\20250407185539_9693dcefff101b0dd11bfd2baeb6d938_IMAG01_99.jpg(50,845 bytes)\n",
      "write img\\풍작이에요, 마왕님!\\3화\\20250407185539_9693dcefff101b0dd11bfd2baeb6d938_IMAG01_100.jpg(201,274 bytes)\n",
      "write img\\풍작이에요, 마왕님!\\3화\\20250407185539_9693dcefff101b0dd11bfd2baeb6d938_IMAG01_101.jpg(174,617 bytes)\n",
      "write img\\풍작이에요, 마왕님!\\3화\\20250407185539_9693dcefff101b0dd11bfd2baeb6d938_IMAG01_102.jpg(189,295 bytes)\n",
      "write img\\풍작이에요, 마왕님!\\3화\\20250407185539_9693dcefff101b0dd11bfd2baeb6d938_IMAG01_103.jpg(135,358 bytes)\n",
      "write img\\풍작이에요, 마왕님!\\3화\\20250407185539_9693dcefff101b0dd11bfd2baeb6d938_IMAG01_104.jpg(82,615 bytes)\n",
      "write img\\풍작이에요, 마왕님!\\3화\\20250407185539_9693dcefff101b0dd11bfd2baeb6d938_IMAG01_105.jpg(182,033 bytes)\n",
      "write img\\풍작이에요, 마왕님!\\3화\\20250407185539_9693dcefff101b0dd11bfd2baeb6d938_IMAG01_106.jpg(172,289 bytes)\n",
      "write img\\풍작이에요, 마왕님!\\3화\\20250407185539_9693dcefff101b0dd11bfd2baeb6d938_IMAG01_107.jpg(174,972 bytes)\n",
      "write img\\풍작이에요, 마왕님!\\3화\\20250407185539_9693dcefff101b0dd11bfd2baeb6d938_IMAG01_108.jpg(234,170 bytes)\n",
      "write img\\풍작이에요, 마왕님!\\3화\\20250407185539_9693dcefff101b0dd11bfd2baeb6d938_IMAG01_109.jpg(138,338 bytes)\n",
      "write img\\풍작이에요, 마왕님!\\3화\\20250407185539_9693dcefff101b0dd11bfd2baeb6d938_IMAG01_110.jpg(123,223 bytes)\n",
      "write img\\풍작이에요, 마왕님!\\3화\\20250407185539_9693dcefff101b0dd11bfd2baeb6d938_IMAG01_111.jpg(103,166 bytes)\n",
      "write img\\풍작이에요, 마왕님!\\3화\\20250407185539_9693dcefff101b0dd11bfd2baeb6d938_IMAG01_112.jpg(158,695 bytes)\n",
      "write img\\풍작이에요, 마왕님!\\3화\\20250407185539_9693dcefff101b0dd11bfd2baeb6d938_IMAG01_113.jpg(189,063 bytes)\n",
      "write img\\풍작이에요, 마왕님!\\3화\\20250407185539_9693dcefff101b0dd11bfd2baeb6d938_IMAG01_114.jpg(143,356 bytes)\n",
      "write img\\풍작이에요, 마왕님!\\3화\\20250407185539_9693dcefff101b0dd11bfd2baeb6d938_IMAG01_115.jpg(152,735 bytes)\n",
      "write img\\풍작이에요, 마왕님!\\3화\\20250407185539_9693dcefff101b0dd11bfd2baeb6d938_IMAG01_116.jpg(176,381 bytes)\n",
      "write img\\풍작이에요, 마왕님!\\3화\\20250407185539_9693dcefff101b0dd11bfd2baeb6d938_IMAG01_117.jpg(185,169 bytes)\n",
      "write img\\풍작이에요, 마왕님!\\3화\\20250407185539_9693dcefff101b0dd11bfd2baeb6d938_IMAG01_118.jpg(232,471 bytes)\n",
      "write img\\풍작이에요, 마왕님!\\3화\\20250407185539_9693dcefff101b0dd11bfd2baeb6d938_IMAG01_119.jpg(164,756 bytes)\n",
      "write img\\풍작이에요, 마왕님!\\3화\\20250407185539_9693dcefff101b0dd11bfd2baeb6d938_IMAG01_120.jpg(142,037 bytes)\n",
      "write img\\풍작이에요, 마왕님!\\3화\\20250407185539_9693dcefff101b0dd11bfd2baeb6d938_IMAG01_121.jpg(96,162 bytes)\n",
      "write img\\풍작이에요, 마왕님!\\3화\\20250407185539_9693dcefff101b0dd11bfd2baeb6d938_IMAG01_122.jpg(149,319 bytes)\n",
      "write img\\풍작이에요, 마왕님!\\3화\\20250407185539_9693dcefff101b0dd11bfd2baeb6d938_IMAG01_123.jpg(137,493 bytes)\n",
      "write img\\풍작이에요, 마왕님!\\3화\\20250407185539_9693dcefff101b0dd11bfd2baeb6d938_IMAG01_124.jpg(170,894 bytes)\n",
      "write img\\풍작이에요, 마왕님!\\3화\\20250407185539_9693dcefff101b0dd11bfd2baeb6d938_IMAG01_125.jpg(172,521 bytes)\n",
      "write img\\풍작이에요, 마왕님!\\3화\\20250407185539_9693dcefff101b0dd11bfd2baeb6d938_IMAG01_126.jpg(173,405 bytes)\n",
      "write img\\풍작이에요, 마왕님!\\3화\\20250407185539_9693dcefff101b0dd11bfd2baeb6d938_IMAG01_127.jpg(160,193 bytes)\n",
      "write img\\풍작이에요, 마왕님!\\3화\\20250407185539_9693dcefff101b0dd11bfd2baeb6d938_IMAG01_128.jpg(162,936 bytes)\n",
      "write img\\풍작이에요, 마왕님!\\3화\\20250407185539_9693dcefff101b0dd11bfd2baeb6d938_IMAG01_129.jpg(208,233 bytes)\n",
      "write img\\풍작이에요, 마왕님!\\3화\\20250407185539_9693dcefff101b0dd11bfd2baeb6d938_IMAG01_130.jpg(221,505 bytes)\n",
      "write img\\풍작이에요, 마왕님!\\3화\\20250407185539_9693dcefff101b0dd11bfd2baeb6d938_IMAG01_131.jpg(87,267 bytes)\n",
      "write img\\풍작이에요, 마왕님!\\3화\\20250407185539_9693dcefff101b0dd11bfd2baeb6d938_IMAG01_132.jpg(160,432 bytes)\n",
      "write img\\풍작이에요, 마왕님!\\3화\\20250407185539_9693dcefff101b0dd11bfd2baeb6d938_IMAG01_133.jpg(160,007 bytes)\n",
      "write img\\풍작이에요, 마왕님!\\3화\\20250407185539_9693dcefff101b0dd11bfd2baeb6d938_IMAG01_134.jpg(160,223 bytes)\n",
      "write img\\풍작이에요, 마왕님!\\3화\\20250407185539_9693dcefff101b0dd11bfd2baeb6d938_IMAG01_135.jpg(123,512 bytes)\n",
      "write img\\풍작이에요, 마왕님!\\3화\\20250407185539_9693dcefff101b0dd11bfd2baeb6d938_IMAG01_136.jpg(135,298 bytes)\n",
      "write img\\풍작이에요, 마왕님!\\3화\\20250407185539_9693dcefff101b0dd11bfd2baeb6d938_IMAG01_137.jpg(34,556 bytes)\n",
      "Error Code = 200\n"
     ]
    }
   ],
   "source": [
    "import requests\n",
    "from bs4 import BeautifulSoup\n",
    "import os\n",
    "from urllib.parse import urlparse, parse_qs\n",
    "\n",
    "def download_one_episode(title,url):\n",
    "    req_header = {\n",
    "        'referer': url\n",
    "    }\n",
    "    res = requests.get(url)\n",
    "    if res.ok:\n",
    "        # jpg 파일의 절대 경로 url 찾기\n",
    "        soup = BeautifulSoup(res.text, 'html.parser')\n",
    "        episode_tilte = soup.select_one(\"span.episode#subTitle_toolbar\").text\n",
    "        image_tags = soup.select(\"img[src*=IMAG01]\")\n",
    "        # img src를 저장할 list 선언\n",
    "        img_src_list = []\n",
    "        # img src 속성값 추출하기\n",
    "        for img_tag in image_tags:\n",
    "            img_src_list.append(img_tag['src'])\n",
    "        #img 디렉토리 생성하기\n",
    "        imgdir_name=f'img\\\\{title}\\\\{episode_tilte}'\n",
    "        if not os.path.exists(imgdir_name):\n",
    "            os.makedirs(imgdir_name)\n",
    "        for img_url in img_src_list:\n",
    "        # requests 의 get(url, headers) 함수 호출하기 \n",
    "            res = requests.get(img_url, headers=req_header)\n",
    "            # binary 응답 데이터 가져오기\n",
    "            img_data = res.content  # 응답(response)에서 binary data 추출\n",
    "            file_name = os.path.join(imgdir_name,os.path.basename(img_url))  # url에서 파일명만 추출하기\n",
    "            with open(file_name, 'wb') as file:\n",
    "                print(f'write {file_name}({len(img_data):,} bytes)')\n",
    "                file.write(img_data)\n",
    "    else:\n",
    "        print(f'Error Code = {res.status_code}')\n",
    "\n",
    "def download_all_episode(episode_url):\n",
    "    res = requests.get(episode_url)\n",
    "    if res.ok:\n",
    "        # print(res.text)\n",
    "        soup = BeautifulSoup(res.text, 'html.parser')\n",
    "\n",
    "        # 웹툰 제목 가져오기\n",
    "        title_tag = soup.select_one('meta[property=\"og:title\"]')\n",
    "        title = title_tag['content'] if title_tag and 'content' in title_tag.attrs else None\n",
    "        # print(f'웹툰 제목: {title}')\n",
    "        \n",
    "        # 제일 최신 에피소드 번호 가져오고 최신 에피소드까지 다운로드하기\n",
    "        # # https://comic.naver.com/api/article/list?titleId=747269\n",
    "        parsed_url = urlparse(episode_url)\n",
    "        query_params = parse_qs(parsed_url.query)\n",
    "        title_id = query_params.get('titleId', [None])[0]\n",
    "        if not title_id:\n",
    "            raise ValueError(\"No titleId found in the provided URL\")\n",
    "        api_url = f\"https://comic.naver.com/api/article/list?titleId={title_id}\"\n",
    "        api_res = requests.get(api_url)\n",
    "        episode_num = 0\n",
    "        if api_res.ok:\n",
    "            api_data = api_res.json()\n",
    "            episode_num = api_data['articleList'][0]['no']\n",
    "        for i in range(1, episode_num+1):\n",
    "            # 에피소드 URL 생성하기\n",
    "            episode_url = f'https://comic.naver.com/webtoon/detail?titleId={title_id}&no={i}'\n",
    "            # 에피소드 다운로드\n",
    "            download_one_episode(title, episode_url)\n",
    "        else:\n",
    "            print(f'Error Code = {api_res.status_code}')\n",
    "\n",
    "    else:\n",
    "        print(f'Error Code = {res.status_code}')\n",
    "\n",
    "# download_all_episode('https://comic.naver.com/webtoon/list?titleId=747269&tab=wed')\n",
    "download_all_episode('https://comic.naver.com/webtoon/list?titleId=837486&tab=thu')"
   ]
  },
  {
   "cell_type": "code",
   "execution_count": null,
   "id": "7412fb93",
   "metadata": {},
   "outputs": [],
   "source": []
  }
 ],
 "metadata": {
  "kernelspec": {
   "display_name": "WEBSC",
   "language": "python",
   "name": "python3"
  },
  "language_info": {
   "codemirror_mode": {
    "name": "ipython",
    "version": 3
   },
   "file_extension": ".py",
   "mimetype": "text/x-python",
   "name": "python",
   "nbconvert_exporter": "python",
   "pygments_lexer": "ipython3",
   "version": "3.13.2"
  }
 },
 "nbformat": 4,
 "nbformat_minor": 5
}
