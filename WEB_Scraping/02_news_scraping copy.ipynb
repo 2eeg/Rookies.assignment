{
 "cells": [
  {
   "cell_type": "markdown",
   "id": "d0ad53dd",
   "metadata": {},
   "source": [
    "# 2-1. Nate 뉴스기사 제목 스크래핑하기 (필수)\n",
    "https://news.nate.com/recent?mid=n0100\n",
    "최신뉴스, 정치 , 경제, 사회, 세계, IT/과학 \n",
    "6개의 섹션의 뉴스를 출력하는 함수를 생성하여 스크래핑 하기\n",
    "\n",
    "Image, 기사제목, 기사링크\n",
    "\n",
    "뉴스기사의 Image를 출력 하세요 \n",
    "1) Image의 절대경로와 상대 경로를 합치려면 urljoin 함수를 사용하세요.\n",
    "    \n",
    "    `from urllib.parse import urljoin`\n",
    "\n",
    "2) Image 출력은 Image 클래스와 display 함수를 사용하세요.\n",
    "    \n",
    "    `from IPython.display import Image, display`\n",
    "\n",
    "3) img 엘리먼트의 존재 여부를 체크하신 후에 src 속성의 이미지를 경로를 추출하기\n",
    "  \n",
    "  => Image 가 없는 뉴스도 있기 때문에 \n"
   ]
  },
  {
   "cell_type": "code",
   "execution_count": 39,
   "id": "93e09a63",
   "metadata": {},
   "outputs": [
    {
     "data": {
      "text/html": [
       "<img src=\"https://thumbnews.nateimg.co.kr/news90///news.nateimg.co.kr/orgImg/do/2025/04/10/131385052.1.jpg\" width=\"100\" height=\"100\"/>"
      ],
      "text/plain": [
       "<IPython.core.display.Image object>"
      ]
     },
     "metadata": {},
     "output_type": "display_data"
    },
    {
     "name": "stdout",
     "output_type": "stream",
     "text": [
      "끊이지 않는 '투표지 분류기 조작설'…\"민관정 검증단 꾸려 감시를\" https://news.nate.com/view/20250410n01049?mid=n0101\n"
     ]
    },
    {
     "data": {
      "text/html": [
       "<img src=\"https://thumbnews.nateimg.co.kr/news90///news.nateimg.co.kr/orgImg/ch/2025/04/10/ch_1744223404738_395151_0.jpg\" width=\"100\" height=\"100\"/>"
      ],
      "text/plain": [
       "<IPython.core.display.Image object>"
      ]
     },
     "metadata": {},
     "output_type": "display_data"
    },
    {
     "name": "stdout",
     "output_type": "stream",
     "text": [
      "민주당 '이완규 임명 무력화' 법안 강행 https://news.nate.com/view/20250410n00612?mid=n0101\n"
     ]
    },
    {
     "data": {
      "text/html": [
       "<img src=\"https://thumbnews.nateimg.co.kr/news90///news.nateimg.co.kr/orgImg/ch/2025/04/10/ch_1744223285002_135930_0.jpg\" width=\"100\" height=\"100\"/>"
      ],
      "text/plain": [
       "<IPython.core.display.Image object>"
      ]
     },
     "metadata": {},
     "output_type": "display_data"
    },
    {
     "name": "stdout",
     "output_type": "stream",
     "text": [
      "김문수 \"깨끗한 내가 李 상대\"…오세훈 13일 출마 선언 https://news.nate.com/view/20250410n00598?mid=n0101\n"
     ]
    },
    {
     "data": {
      "text/html": [
       "<img src=\"https://thumbnews.nateimg.co.kr/news90///news.nateimg.co.kr/orgImg/ch/2025/04/10/ch_1744223224668_126212_0.jpg\" width=\"100\" height=\"100\"/>"
      ],
      "text/plain": [
       "<IPython.core.display.Image object>"
      ]
     },
     "metadata": {},
     "output_type": "display_data"
    },
    {
     "name": "stdout",
     "output_type": "stream",
     "text": [
      "계엄과 무관한 이슈까지…尹정부 3년 모두 '내란'과 엮는 좌파진영 https://news.nate.com/view/20250410n00593?mid=n0101\n"
     ]
    },
    {
     "data": {
      "text/html": [
       "<img src=\"https://thumbnews.nateimg.co.kr/news90///news.nateimg.co.kr/orgImg/do/2025/04/10/131381476.5.jpg\" width=\"100\" height=\"100\"/>"
      ],
      "text/plain": [
       "<IPython.core.display.Image object>"
      ]
     },
     "metadata": {},
     "output_type": "display_data"
    },
    {
     "name": "stdout",
     "output_type": "stream",
     "text": [
      "이완규 \"韓대행 결정 존중\" 사퇴 거부…공수처장 \"李 수사대상\" https://news.nate.com/view/20250410n01095?mid=n0101\n",
      "민주 '권한대행 재판관 지명 금지법안' 법사위 처리 https://news.nate.com/view/20250410n01094?mid=n0101\n",
      "\"6·3대선, 부정선거 음모론 끝내자\" https://news.nate.com/view/20250410n01089?mid=n0101\n"
     ]
    },
    {
     "data": {
      "text/html": [
       "<img src=\"https://thumbnews.nateimg.co.kr/news90///news.nateimg.co.kr/orgImg/do/2025/04/10/131383593.1.jpg\" width=\"100\" height=\"100\"/>"
      ],
      "text/plain": [
       "<IPython.core.display.Image object>"
      ]
     },
     "metadata": {},
     "output_type": "display_data"
    },
    {
     "name": "stdout",
     "output_type": "stream",
     "text": [
      "李 오늘 대선출마, 국힘 내달 3일 후보 확정 https://news.nate.com/view/20250410n01088?mid=n0101\n",
      "'원스톱 쇼핑' 트럼프 언급에…정부 \"조선업-LNG 지렛대 활용\" https://news.nate.com/view/20250410n01083?mid=n0101\n"
     ]
    },
    {
     "data": {
      "text/html": [
       "<img src=\"https://thumbnews.nateimg.co.kr/news90///news.nateimg.co.kr/orgImg/do/2025/04/10/131385024.1.jpg\" width=\"100\" height=\"100\"/>"
      ],
      "text/plain": [
       "<IPython.core.display.Image object>"
      ]
     },
     "metadata": {},
     "output_type": "display_data"
    },
    {
     "name": "stdout",
     "output_type": "stream",
     "text": [
      "\"軍, 美에 '중동 차출 주한미군 패트리엇' 보완전력 배치 요청\" https://news.nate.com/view/20250410n01066?mid=n0101\n"
     ]
    },
    {
     "data": {
      "text/html": [
       "<img src=\"https://thumbnews.nateimg.co.kr/news90///news.nateimg.co.kr/orgImg/do/2025/04/10/131381358.5.jpg\" width=\"100\" height=\"100\"/>"
      ],
      "text/plain": [
       "<IPython.core.display.Image object>"
      ]
     },
     "metadata": {},
     "output_type": "display_data"
    },
    {
     "name": "stdout",
     "output_type": "stream",
     "text": [
      "마은혁 \"우려 시선 잘 알아…헌법 기본에 충실\" 마용주 \"상식에 맞게 법해석…신속-공정 재판\" https://news.nate.com/view/20250410n01060?mid=n0101\n"
     ]
    },
    {
     "data": {
      "text/html": [
       "<img src=\"https://thumbnews.nateimg.co.kr/news90///news.nateimg.co.kr/orgImg/do/2025/04/10/131381370.5.jpg\" width=\"100\" height=\"100\"/>"
      ],
      "text/plain": [
       "<IPython.core.display.Image object>"
      ]
     },
     "metadata": {},
     "output_type": "display_data"
    },
    {
     "name": "stdout",
     "output_type": "stream",
     "text": [
      "\"이제 못 볼 수도\"…관람객 붐비는 청와대 https://news.nate.com/view/20250410n01059?mid=n0101\n"
     ]
    },
    {
     "data": {
      "text/html": [
       "<img src=\"https://thumbnews.nateimg.co.kr/news90///news.nateimg.co.kr/orgImg/do/2025/04/10/131381493.5.jpg\" width=\"100\" height=\"100\"/>"
      ],
      "text/plain": [
       "<IPython.core.display.Image object>"
      ]
     },
     "metadata": {},
     "output_type": "display_data"
    },
    {
     "name": "stdout",
     "output_type": "stream",
     "text": [
      "국힘 16일 경선 진출자 발표…공직사퇴 시한 전날 후보 선출 https://news.nate.com/view/20250410n01057?mid=n0101\n"
     ]
    },
    {
     "data": {
      "text/html": [
       "<img src=\"https://thumbnews.nateimg.co.kr/news90///news.nateimg.co.kr/orgImg/do/2025/04/10/131381498.5.jpg\" width=\"100\" height=\"100\"/>"
      ],
      "text/plain": [
       "<IPython.core.display.Image object>"
      ]
     },
     "metadata": {},
     "output_type": "display_data"
    },
    {
     "name": "stdout",
     "output_type": "stream",
     "text": [
      "이재명 '성장과 회복' 키워드…오늘 10여분 영상 출마 선언 https://news.nate.com/view/20250410n01056?mid=n0101\n",
      "대만처럼 완전 수개표?…선관위 \"인력 최소 7배로 늘려야\" https://news.nate.com/view/20250410n01050?mid=n0101\n"
     ]
    },
    {
     "data": {
      "text/html": [
       "<img src=\"https://thumbnews.nateimg.co.kr/news90///news.nateimg.co.kr/orgImg/sv/2025/04/10/202059424_700.jpg\" width=\"100\" height=\"100\"/>"
      ],
      "text/plain": [
       "<IPython.core.display.Image object>"
      ]
     },
     "metadata": {},
     "output_type": "display_data"
    },
    {
     "name": "stdout",
     "output_type": "stream",
     "text": [
      "'대통령 몫 임명 불가' 법사위 통과…\"법리 하자\" https://news.nate.com/view/20250410n00941?mid=n0101\n"
     ]
    },
    {
     "data": {
      "text/html": [
       "<img src=\"https://thumbnews.nateimg.co.kr/news90///news.nateimg.co.kr/orgImg/sv/2025/04/10/202059423_700.jpg\" width=\"100\" height=\"100\"/>"
      ],
      "text/plain": [
       "<IPython.core.display.Image object>"
      ]
     },
     "metadata": {},
     "output_type": "display_data"
    },
    {
     "name": "stdout",
     "output_type": "stream",
     "text": [
      "김문수 대선 출사표…오세훈 13일 출마 선언 https://news.nate.com/view/20250410n00919?mid=n0101\n"
     ]
    },
    {
     "data": {
      "text/html": [
       "<img src=\"https://thumbnews.nateimg.co.kr/news90///news.nateimg.co.kr/orgImg/sv/2025/04/10/202059422_700.jpg\" width=\"100\" height=\"100\"/>"
      ],
      "text/plain": [
       "<IPython.core.display.Image object>"
      ]
     },
     "metadata": {},
     "output_type": "display_data"
    },
    {
     "name": "stdout",
     "output_type": "stream",
     "text": [
      "이재명 당대표 사퇴…김동연 출마 선언 https://news.nate.com/view/20250410n00894?mid=n0101\n"
     ]
    },
    {
     "data": {
      "text/html": [
       "<img src=\"https://thumbnews.nateimg.co.kr/news90///news.nateimg.co.kr/orgImg/kx/2025/04/10/2025040920440415002_1744199044_1744191147.jpg\" width=\"100\" height=\"100\"/>"
      ],
      "text/plain": [
       "<IPython.core.display.Image object>"
      ]
     },
     "metadata": {},
     "output_type": "display_data"
    },
    {
     "name": "stdout",
     "output_type": "stream",
     "text": [
      "결국 방위비 압박하는 美…인상 땐 추가 군사지원 얻어내야 https://news.nate.com/view/20250410n00887?mid=n0101\n"
     ]
    },
    {
     "data": {
      "text/html": [
       "<img src=\"https://thumbnews.nateimg.co.kr/news90///news.nateimg.co.kr/orgImg/mt/2025/04/10/2025040615420640398_1.jpg\" width=\"100\" height=\"100\"/>"
      ],
      "text/plain": [
       "<IPython.core.display.Image object>"
      ]
     },
     "metadata": {},
     "output_type": "display_data"
    },
    {
     "name": "stdout",
     "output_type": "stream",
     "text": [
      "[MT시평]해방의 날과 파멸의 날 https://news.nate.com/view/20250410n00861?mid=n0101\n"
     ]
    }
   ],
   "source": [
    "from IPython.display import Image, display\n",
    "import requests\n",
    "from bs4 import BeautifulSoup\n",
    "\n",
    "\n",
    "def print_news(sid):\n",
    "    section_dict = {'전체':'n0100', '정치':'n0101', '경제':'n0102', '사회':'n0103', '세계':'n0104', 'IT/과학':'n0105' }\n",
    "    url = f'https://news.nate.com/recent?mid={section_dict[sid]}'\n",
    "    req_header = {\n",
    "        'user-agent':\n",
    "    'Mozilla/5.0 (Windows NT 10.0; Win64; x64) AppleWebKit/537.36 (KHTML, like Gecko) Chrome/135.0.0.0 Safari/537.36'\n",
    "    }\n",
    "    res = requests.get(url, headers=req_header)\n",
    "    res.encoding = 'euc-kr'\n",
    "    if res.ok:\n",
    "        html = res.text\n",
    "        soup = BeautifulSoup(html, 'html.parser')\n",
    "        for div_tag in soup.select(\"div.mlt01\"):\n",
    "            title = div_tag.select_one(\"h2.tit\").text.strip()\n",
    "            link = 'https:'+div_tag.select_one(\"a\")[\"href\"]\n",
    "            if div_tag.select_one(\"img\"):\n",
    "                image_src = 'https:' + div_tag.select_one(\"img\")[\"src\"]\n",
    "                display(Image(url=image_src, width=100, height=100))\n",
    "            print(title, link)\n",
    "\n",
    "    else:\n",
    "        print('Error: ', res.status_code)\n",
    "print_news('정치')"
   ]
  },
  {
   "cell_type": "markdown",
   "id": "0bd743dc",
   "metadata": {},
   "source": [
    "## 2-2. 하나의 네이버 웹툰과 1개의 회차에 대한 Image 다운로드 하기 (필수)\n",
    "\n",
    ":  하나의 웹툰의 제목(title)과 회차번호(no),회차의URL(url) 을 입력으로 받는 함수를 선언합니다. \n",
    "\n",
    "\n",
    "   `def download_one_episode(title,no,url):`\n",
    "\n",
    "아래와 같이 호출합니다.\n",
    "`download_one_episode('낢이사는이야기',48,'https://comic.naver.com/webtoon/detail?titleId=833255&no=49&week=tue')`\n",
    "\n",
    "img\\낢이사는이야기\\48 디렉토리가 생성되며 ,\n",
    "\n",
    "그 디렉토리 아래에 웹툰 image들이 다운로드 되도록 해주세요."
   ]
  },
  {
   "cell_type": "code",
   "execution_count": null,
   "id": "d0b78f46",
   "metadata": {},
   "outputs": [
    {
     "name": "stdout",
     "output_type": "stream",
     "text": [
      "write img/낢이사는이야기/48\\20250310103947_792197c569e377c7f369fe9d6f2bd961_IMAG01_1.jpg(166,289 bytes)\n",
      "write img/낢이사는이야기/48\\20250310103947_792197c569e377c7f369fe9d6f2bd961_IMAG01_2.jpg(117,581 bytes)\n",
      "write img/낢이사는이야기/48\\20250310103947_792197c569e377c7f369fe9d6f2bd961_IMAG01_3.jpg(175,647 bytes)\n",
      "write img/낢이사는이야기/48\\20250310103947_792197c569e377c7f369fe9d6f2bd961_IMAG01_4.jpg(140,295 bytes)\n",
      "write img/낢이사는이야기/48\\20250310103947_792197c569e377c7f369fe9d6f2bd961_IMAG01_5.jpg(115,277 bytes)\n",
      "write img/낢이사는이야기/48\\20250310103947_792197c569e377c7f369fe9d6f2bd961_IMAG01_6.jpg(86,840 bytes)\n",
      "write img/낢이사는이야기/48\\20250310103947_792197c569e377c7f369fe9d6f2bd961_IMAG01_7.jpg(151,280 bytes)\n",
      "write img/낢이사는이야기/48\\20250310103947_792197c569e377c7f369fe9d6f2bd961_IMAG01_8.jpg(146,198 bytes)\n",
      "write img/낢이사는이야기/48\\20250310103947_792197c569e377c7f369fe9d6f2bd961_IMAG01_9.jpg(86,460 bytes)\n",
      "write img/낢이사는이야기/48\\20250310103947_792197c569e377c7f369fe9d6f2bd961_IMAG01_10.jpg(152,631 bytes)\n",
      "write img/낢이사는이야기/48\\20250310103947_792197c569e377c7f369fe9d6f2bd961_IMAG01_11.jpg(236,174 bytes)\n",
      "write img/낢이사는이야기/48\\20250310103947_792197c569e377c7f369fe9d6f2bd961_IMAG01_12.jpg(218,403 bytes)\n",
      "write img/낢이사는이야기/48\\20250310103947_792197c569e377c7f369fe9d6f2bd961_IMAG01_13.jpg(126,874 bytes)\n",
      "write img/낢이사는이야기/48\\20250310103947_792197c569e377c7f369fe9d6f2bd961_IMAG01_14.jpg(169,822 bytes)\n",
      "write img/낢이사는이야기/48\\20250310103947_792197c569e377c7f369fe9d6f2bd961_IMAG01_15.jpg(100,097 bytes)\n",
      "write img/낢이사는이야기/48\\20250310103947_792197c569e377c7f369fe9d6f2bd961_IMAG01_16.jpg(138,348 bytes)\n",
      "write img/낢이사는이야기/48\\20250310103947_792197c569e377c7f369fe9d6f2bd961_IMAG01_17.jpg(136,580 bytes)\n",
      "write img/낢이사는이야기/48\\20250310103947_792197c569e377c7f369fe9d6f2bd961_IMAG01_18.jpg(127,154 bytes)\n",
      "write img/낢이사는이야기/48\\20250310103947_792197c569e377c7f369fe9d6f2bd961_IMAG01_19.jpg(155,183 bytes)\n",
      "write img/낢이사는이야기/48\\20250310103947_792197c569e377c7f369fe9d6f2bd961_IMAG01_20.jpg(175,333 bytes)\n",
      "write img/낢이사는이야기/48\\20250310103947_792197c569e377c7f369fe9d6f2bd961_IMAG01_21.jpg(108,840 bytes)\n",
      "write img/낢이사는이야기/48\\20250310103947_792197c569e377c7f369fe9d6f2bd961_IMAG01_22.jpg(107,072 bytes)\n",
      "write img/낢이사는이야기/48\\20250310103947_792197c569e377c7f369fe9d6f2bd961_IMAG01_23.jpg(9,392 bytes)\n"
     ]
    }
   ],
   "source": [
    "import requests\n",
    "from bs4 import BeautifulSoup\n",
    "import os\n",
    "import re\n",
    "\n",
    "# 특수문자를 언더스코어로 치환하는 함수 추가\n",
    "def sanitize_foldername(name):\n",
    "    # Windows에서 폴더명으로 사용할 수 없는 문자들 치환\n",
    "    return re.sub(r'[\\\\/:*?\"<>|]', '_', name)\n",
    "\n",
    "def download_one_episode(title,no,url):\n",
    "    req_header = {\n",
    "        'referer': url\n",
    "    }\n",
    "    res = requests.get(url)\n",
    "    if res.ok:\n",
    "        # jpg 파일의 절대 경로 url 찾기\n",
    "        soup = BeautifulSoup(res.text, 'html.parser')\n",
    "        image_tags = soup.select(\"img[src*=IMAG01]\")\n",
    "        # img src를 저장할 list 선언\n",
    "        img_src_list = []\n",
    "        # img src 속성값 추출하기\n",
    "        for img_tag in image_tags:\n",
    "            img_src_list.append(img_tag['src'])\n",
    "        \n",
    "        # 폴더명 특수문자 처리\n",
    "        safe_title = sanitize_foldername(title)\n",
    "        \n",
    "        #img 디렉토리 생성하기\n",
    "        imgdir_name=f'img/{safe_title}/{no}'\n",
    "        if not os.path.exists(imgdir_name):\n",
    "            os.makedirs(imgdir_name)\n",
    "            \n",
    "        print(f'{title} {no}화 다운로드 중... (총 {len(img_src_list)}개 이미지)')\n",
    "        for img_url in img_src_list:\n",
    "        # requests 의 get(url, headers) 함수 호출하기 \n",
    "            res = requests.get(img_url, headers=req_header)\n",
    "            # binary 응답 데이터 가져오기\n",
    "            img_data = res.content  # 응답(response)에서 binary data 추출\n",
    "            file_name = os.path.join(imgdir_name,os.path.basename(img_url))  # url에서 파일명만 추출하기\n",
    "            with open(file_name, 'wb') as file:\n",
    "                file.write(img_data)\n",
    "        print(f'{title} {no}화 다운로드 완료')\n",
    "    else:\n",
    "        print(f'Error Code = {res.status_code}')\n",
    "\n",
    "download_one_episode('낢이사는이야기',48,'https://comic.naver.com/webtoon/detail?titleId=833255&no=49&week=tue')\n"
   ]
  },
  {
   "cell_type": "markdown",
   "id": "4d702083",
   "metadata": {},
   "source": [
    "2-3. 하나의 네이버 웹툰과 여러개의 회차에 대한 Image 다운로드 하기 (선택)\n",
    ":  하나의 웹툰의 제목(title)과 회차를 알 수 있는 url을 입력으로 받는 함수를 선언합니다. \n",
    "   def download_all_episode(title, episode_url):\n",
    ": 하나의 웹툰에 대한 1Page의 20 회차의 image를 다운로드 받습니다. \n",
    ": 페이징 처리된 모든 회차의 image 다운로드가 어려우시면 그 부분은 생략하셔도 됩니다.\n",
    " \n",
    "download_all_episode('낢이사는이야기', 'https://comic.naver.com/webtoon/list?titleId=833255&tab=tue')\n",
    "\n",
    "   img\\낢이사는이야기\\50\n",
    "   img\\낢이사는이야기\\49\n",
    "   img\\낢이사는이야기\\48\n",
    "\n",
    "https://comic.naver.com/webtoon/list?titleId=833255&tab=tue\n",
    "\n",
    " \n",
    "          \n",
    "위의 페이지에서 모든 회차의 url을 먼저 추출합니다. \n",
    "아래의 같은 <a> 태그의 href 속성값을 모두 추출하시면 됩니다.\n",
    "<a href=\"/webtoon/detail?titleId=833255&amp;no=51&amp;week=tue\"></a>\n",
    "<a href=\"/webtoon/detail?titleId=833255&amp;no=50&amp;week=tue\"></a>\n",
    "\n",
    "회차의 url에 회차번호가 있습니다. \n",
    "예를 들어 no=49 일때 실제의 회차는 50회 입니다. \n",
    "https://comic.naver.com/webtoon/detail?titleId=833255&no=49&week=tue\n",
    "\n",
    "추출한 회차의 url를 순회하면서 2-2. 하나의 네이버 웹툰과 1개의 회차에 대한 Image 다운로드 함수를 \n",
    "호출하시면 됩니다. \n",
    "\n"
   ]
  },
  {
   "cell_type": "code",
   "execution_count": null,
   "id": "2f73134d",
   "metadata": {},
   "outputs": [
    {
     "name": "stdout",
     "output_type": "stream",
     "text": [
      "웹툰 제목: 전지적 독자 시점 다운로드를 시작합니다.\n",
      "총 252화 다운로드 예정\n",
      "[179/252] 에피소드 다운로드 중...\n",
      "[180/252] 에피소드 다운로드 중...\n",
      "[181/252] 에피소드 다운로드 중...\n",
      "[182/252] 에피소드 다운로드 중...\n",
      "[183/252] 에피소드 다운로드 중...\n",
      "[184/252] 에피소드 다운로드 중...\n",
      "[185/252] 에피소드 다운로드 중...\n",
      "[186/252] 에피소드 다운로드 중...\n",
      "[187/252] 에피소드 다운로드 중...\n",
      "[188/252] 에피소드 다운로드 중...\n",
      "[189/252] 에피소드 다운로드 중...\n",
      "[190/252] 에피소드 다운로드 중...\n",
      "[191/252] 에피소드 다운로드 중...\n",
      "[192/252] 에피소드 다운로드 중...\n",
      "[193/252] 에피소드 다운로드 중...\n",
      "[194/252] 에피소드 다운로드 중...\n",
      "[195/252] 에피소드 다운로드 중...\n",
      "[196/252] 에피소드 다운로드 중...\n",
      "[197/252] 에피소드 다운로드 중...\n",
      "[198/252] 에피소드 다운로드 중...\n",
      "[199/252] 에피소드 다운로드 중...\n",
      "[200/252] 에피소드 다운로드 중...\n",
      "[201/252] 에피소드 다운로드 중...\n"
     ]
    },
    {
     "ename": "FileNotFoundError",
     "evalue": "[Errno 2] No such file or directory: 'img\\\\전지적 독자 시점\\\\200. Ep. 33 다시 읽기 (7) \\\\20240227111635_332b7cce15fc18b6721584906ca04b72_IMAG01_1.jpg'",
     "output_type": "error",
     "traceback": [
      "\u001b[1;31m---------------------------------------------------------------------------\u001b[0m",
      "\u001b[1;31mFileNotFoundError\u001b[0m                         Traceback (most recent call last)",
      "Cell \u001b[1;32mIn[2], line 94\u001b[0m\n\u001b[0;32m     91\u001b[0m         \u001b[38;5;28mprint\u001b[39m(\u001b[38;5;124mf\u001b[39m\u001b[38;5;124m'\u001b[39m\u001b[38;5;124m웹툰 목록 페이지 요청 오류: \u001b[39m\u001b[38;5;132;01m{\u001b[39;00mres\u001b[38;5;241m.\u001b[39mstatus_code\u001b[38;5;132;01m}\u001b[39;00m\u001b[38;5;124m'\u001b[39m)\n\u001b[0;32m     93\u001b[0m \u001b[38;5;66;03m# 실행 예시\u001b[39;00m\n\u001b[1;32m---> 94\u001b[0m download_all_episode(\u001b[38;5;124m'\u001b[39m\u001b[38;5;124mhttps://comic.naver.com/webtoon/list?titleId=747269&tab=wed\u001b[39m\u001b[38;5;124m'\u001b[39m)\n",
      "Cell \u001b[1;32mIn[2], line 84\u001b[0m, in \u001b[0;36mdownload_all_episode\u001b[1;34m(episode_url)\u001b[0m\n\u001b[0;32m     82\u001b[0m     \u001b[38;5;28mprint\u001b[39m(\u001b[38;5;124mf\u001b[39m\u001b[38;5;124m'\u001b[39m\u001b[38;5;124m[\u001b[39m\u001b[38;5;132;01m{\u001b[39;00mi\u001b[38;5;132;01m}\u001b[39;00m\u001b[38;5;124m/\u001b[39m\u001b[38;5;132;01m{\u001b[39;00mepisode_num\u001b[38;5;132;01m}\u001b[39;00m\u001b[38;5;124m] 에피소드 다운로드 중...\u001b[39m\u001b[38;5;124m'\u001b[39m)\n\u001b[0;32m     83\u001b[0m     \u001b[38;5;66;03m# 에피소드 다운로드\u001b[39;00m\n\u001b[1;32m---> 84\u001b[0m     \u001b[38;5;28;01mif\u001b[39;00m download_one_episode(title, current_episode_url):\n\u001b[0;32m     85\u001b[0m         success_count \u001b[38;5;241m+\u001b[39m\u001b[38;5;241m=\u001b[39m \u001b[38;5;241m1\u001b[39m\n\u001b[0;32m     87\u001b[0m \u001b[38;5;28mprint\u001b[39m(\u001b[38;5;124mf\u001b[39m\u001b[38;5;124m'\u001b[39m\u001b[38;5;124m다운로드 완료: 총 \u001b[39m\u001b[38;5;132;01m{\u001b[39;00mepisode_num\u001b[38;5;132;01m}\u001b[39;00m\u001b[38;5;124m화 중 \u001b[39m\u001b[38;5;132;01m{\u001b[39;00msuccess_count\u001b[38;5;132;01m}\u001b[39;00m\u001b[38;5;124m화 성공\u001b[39m\u001b[38;5;124m'\u001b[39m)\n",
      "Cell \u001b[1;32mIn[2], line 44\u001b[0m, in \u001b[0;36mdownload_one_episode\u001b[1;34m(title, url)\u001b[0m\n\u001b[0;32m     42\u001b[0m     img_data \u001b[38;5;241m=\u001b[39m res\u001b[38;5;241m.\u001b[39mcontent\n\u001b[0;32m     43\u001b[0m     file_name \u001b[38;5;241m=\u001b[39m os\u001b[38;5;241m.\u001b[39mpath\u001b[38;5;241m.\u001b[39mjoin(imgdir_name,os\u001b[38;5;241m.\u001b[39mpath\u001b[38;5;241m.\u001b[39mbasename(img_url))\n\u001b[1;32m---> 44\u001b[0m     \u001b[38;5;28;01mwith\u001b[39;00m \u001b[38;5;28mopen\u001b[39m(file_name, \u001b[38;5;124m'\u001b[39m\u001b[38;5;124mwb\u001b[39m\u001b[38;5;124m'\u001b[39m) \u001b[38;5;28;01mas\u001b[39;00m file:\n\u001b[0;32m     45\u001b[0m         file\u001b[38;5;241m.\u001b[39mwrite(img_data)\n\u001b[0;32m     47\u001b[0m \u001b[38;5;28;01mreturn\u001b[39;00m \u001b[38;5;28;01mTrue\u001b[39;00m  \u001b[38;5;66;03m# 다운로드 성공 표시\u001b[39;00m\n",
      "File \u001b[1;32mc:\\Users\\user\\anaconda3\\envs\\WEBSC\\Lib\\site-packages\\IPython\\core\\interactiveshell.py:324\u001b[0m, in \u001b[0;36m_modified_open\u001b[1;34m(file, *args, **kwargs)\u001b[0m\n\u001b[0;32m    317\u001b[0m \u001b[38;5;28;01mif\u001b[39;00m file \u001b[38;5;129;01min\u001b[39;00m {\u001b[38;5;241m0\u001b[39m, \u001b[38;5;241m1\u001b[39m, \u001b[38;5;241m2\u001b[39m}:\n\u001b[0;32m    318\u001b[0m     \u001b[38;5;28;01mraise\u001b[39;00m \u001b[38;5;167;01mValueError\u001b[39;00m(\n\u001b[0;32m    319\u001b[0m         \u001b[38;5;124mf\u001b[39m\u001b[38;5;124m\"\u001b[39m\u001b[38;5;124mIPython won\u001b[39m\u001b[38;5;124m'\u001b[39m\u001b[38;5;124mt let you open fd=\u001b[39m\u001b[38;5;132;01m{\u001b[39;00mfile\u001b[38;5;132;01m}\u001b[39;00m\u001b[38;5;124m by default \u001b[39m\u001b[38;5;124m\"\u001b[39m\n\u001b[0;32m    320\u001b[0m         \u001b[38;5;124m\"\u001b[39m\u001b[38;5;124mas it is likely to crash IPython. If you know what you are doing, \u001b[39m\u001b[38;5;124m\"\u001b[39m\n\u001b[0;32m    321\u001b[0m         \u001b[38;5;124m\"\u001b[39m\u001b[38;5;124myou can use builtins\u001b[39m\u001b[38;5;124m'\u001b[39m\u001b[38;5;124m open.\u001b[39m\u001b[38;5;124m\"\u001b[39m\n\u001b[0;32m    322\u001b[0m     )\n\u001b[1;32m--> 324\u001b[0m \u001b[38;5;28;01mreturn\u001b[39;00m io_open(file, \u001b[38;5;241m*\u001b[39margs, \u001b[38;5;241m*\u001b[39m\u001b[38;5;241m*\u001b[39mkwargs)\n",
      "\u001b[1;31mFileNotFoundError\u001b[0m: [Errno 2] No such file or directory: 'img\\\\전지적 독자 시점\\\\200. Ep. 33 다시 읽기 (7) \\\\20240227111635_332b7cce15fc18b6721584906ca04b72_IMAG01_1.jpg'"
     ]
    }
   ],
   "source": [
    "import requests\n",
    "from bs4 import BeautifulSoup\n",
    "import os\n",
    "import re\n",
    "from urllib.parse import urlparse, parse_qs\n",
    "\n",
    "# 특수문자를 언더스코어로 치환하는 함수 추가\n",
    "def sanitize_foldername(name):\n",
    "    # Windows에서 폴더명으로 사용할 수 없는 문자들 치환\n",
    "    return re.sub(r'[\\\\/:*?\"<>|]', '_', name)\n",
    "\n",
    "def download_one_episode(title, url):\n",
    "    req_header = {\n",
    "        'referer': url\n",
    "    }\n",
    "    res = requests.get(url)\n",
    "    if res.ok:\n",
    "        # jpg 파일의 절대 경로 url 찾기\n",
    "        soup = BeautifulSoup(res.text, 'html.parser')\n",
    "        episode_title = soup.select_one(\"span.episode#subTitle_toolbar\").text\n",
    "        # 에피소드 제목에서 특수문자 제거\n",
    "        safe_episode_title = sanitize_foldername(episode_title)\n",
    "        \n",
    "        image_tags = soup.select(\"img[src*=IMAG01]\")\n",
    "        # img src를 저장할 list 선언\n",
    "        img_src_list = []\n",
    "        # img src 속성값 추출하기\n",
    "        for img_tag in image_tags:\n",
    "            img_src_list.append(img_tag['src'])\n",
    "        \n",
    "        # 웹툰 제목에서 특수문자 제거\n",
    "        safe_title = sanitize_foldername(title)\n",
    "        \n",
    "        #img 디렉토리 생성하기\n",
    "        imgdir_name=f'img\\\\{safe_title}\\\\{safe_episode_title}'\n",
    "        if not os.path.exists(imgdir_name):\n",
    "            os.makedirs(imgdir_name)\n",
    "            \n",
    "        # 개별 이미지 다운로드 진행상황은 출력하지 않음\n",
    "        for img_url in img_src_list:\n",
    "            res = requests.get(img_url, headers=req_header)\n",
    "            img_data = res.content\n",
    "            file_name = os.path.join(imgdir_name,os.path.basename(img_url))\n",
    "            with open(file_name, 'wb') as file:\n",
    "                file.write(img_data)\n",
    "    \n",
    "        return True  # 다운로드 성공 표시\n",
    "    else:\n",
    "        print(f'Error Code = {res.status_code}')\n",
    "        return False  # 다운로드 실패 표시\n",
    "\n",
    "def download_all_episode(episode_url):\n",
    "    res = requests.get(episode_url)\n",
    "    if res.ok:\n",
    "        soup = BeautifulSoup(res.text, 'html.parser')\n",
    "\n",
    "        # 웹툰 제목 가져오기\n",
    "        title_tag = soup.select_one('meta[property=\"og:title\"]')\n",
    "        title = title_tag['content'] if title_tag and 'content' in title_tag.attrs else None\n",
    "        print(f'웹툰 제목: {title} 다운로드를 시작합니다.')\n",
    "        \n",
    "        # 제일 최신 에피소드 번호 가져오기\n",
    "        parsed_url = urlparse(episode_url)\n",
    "        query_params = parse_qs(parsed_url.query)\n",
    "        title_id = query_params.get('titleId', [None])[0]\n",
    "        if not title_id:\n",
    "            raise ValueError(\"No titleId found in the provided URL\")\n",
    "            \n",
    "        api_url = f\"https://comic.naver.com/api/article/list?titleId={title_id}\"\n",
    "        api_res = requests.get(api_url)\n",
    "        episode_num = 0\n",
    "        \n",
    "        if api_res.ok:\n",
    "            api_data = api_res.json()\n",
    "            episode_num = api_data['articleList'][0]['no']\n",
    "            print(f'총 {episode_num}화 다운로드 예정')\n",
    "            \n",
    "            success_count = 0  # 성공적으로 다운로드한 에피소드 수\n",
    "            for i in range(1, episode_num+1):\n",
    "                # 에피소드 URL 생성하기\n",
    "                current_episode_url = f'https://comic.naver.com/webtoon/detail?titleId={title_id}&no={i}'\n",
    "                print(f'[{i}/{episode_num}] 에피소드 다운로드 중...')\n",
    "                # 에피소드 다운로드\n",
    "                if download_one_episode(title, current_episode_url):\n",
    "                    success_count += 1\n",
    "                    \n",
    "            print(f'다운로드 완료: 총 {episode_num}화 중 {success_count}화 성공')\n",
    "        else:\n",
    "            print(f'API 요청 오류: {api_res.status_code}')\n",
    "    else:\n",
    "        print(f'웹툰 목록 페이지 요청 오류: {res.status_code}')\n",
    "\n",
    "# 실행 예시\n",
    "download_all_episode('https://comic.naver.com/webtoon/list?titleId=747269&tab=wed')"
   ]
  },
  {
   "cell_type": "code",
   "execution_count": null,
   "id": "7412fb93",
   "metadata": {},
   "outputs": [],
   "source": []
  }
 ],
 "metadata": {
  "kernelspec": {
   "display_name": "WEBSC",
   "language": "python",
   "name": "python3"
  },
  "language_info": {
   "codemirror_mode": {
    "name": "ipython",
    "version": 3
   },
   "file_extension": ".py",
   "mimetype": "text/x-python",
   "name": "python",
   "nbconvert_exporter": "python",
   "pygments_lexer": "ipython3",
   "version": "3.13.2"
  }
 },
 "nbformat": 4,
 "nbformat_minor": 5
}
