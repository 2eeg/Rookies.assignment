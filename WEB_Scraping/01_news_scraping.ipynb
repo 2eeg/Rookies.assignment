{
 "cells": [
  {
   "cell_type": "code",
   "execution_count": 30,
   "id": "93e09a63",
   "metadata": {},
   "outputs": [
    {
     "name": "stdout",
     "output_type": "stream",
     "text": [
      "비명 질러도 레버리지 ‘몰빵’…폭락장이 3배 더 아픈 서학개미들 https://v.daum.net/v/20250409155045087\n",
      "美상호관세 본게임 시작…'조선·LNG·무역균형' 협상카드 \"최선의 선택지\" https://v.daum.net/v/20250409152121807\n",
      "美 관세폭탄·전기차 캐즘에도… 기아, '수익 방어' 자신감 https://v.daum.net/v/20250409150221908\n",
      "환율급등·상호관세 '더블악재'에 산업계 비상…유례없어 대응막막 https://v.daum.net/v/20250409145910699\n",
      "'제조업' 고용 부진 우려 커졌다...내수침체에 수출둔화까지 https://v.daum.net/v/20250409140651964\n",
      "\"고수익에 원금 손실 없는 IMA\"…한투·미래, 도전장 내민다(종합) https://v.daum.net/v/20250409135436464\n",
      "美상호관세 발효, 본게임 시작…협상 키워드는 '맞춤형·원스톱' https://v.daum.net/v/20250409130123888\n",
      "정부, 美에 LNG 수입·조선업 협력·알래스카 투자 제안…트럼프  “Great Call” https://v.daum.net/v/20250409122036180\n",
      "3월 은행 가계대출 1.4조↑ \"토허제發 주택거래 급증은 2분기 영향\" https://v.daum.net/v/20250409120009533\n"
     ]
    }
   ],
   "source": [
    "import requests\n",
    "from bs4 import BeautifulSoup\n",
    "url = f'https://news.daum.net/economy'\n",
    "req_header = {\n",
    "    'user-agent':\n",
    "'Mozilla/5.0 (Windows NT 10.0; Win64; x64) AppleWebKit/537.36 (KHTML, like Gecko) Chrome/135.0.0.0 Safari/537.36'\n",
    "}\n",
    "res = requests.get(url, headers=req_header)\n",
    "res.encoding = 'utf-8'\n",
    "if res.ok:\n",
    "    html = res.text\n",
    "    soup = BeautifulSoup(html, 'html.parser')\n",
    "    for li_tag in soup.select(\"ul.list_newsheadline2 li\"):\n",
    "        link = li_tag.find('a')['href']\n",
    "        title = li_tag.select_one('div.cont_thumb strong.tit_txt').text\n",
    "        print(title, link)\n",
    "else:\n",
    "    print('Error: ', res.status_code)"
   ]
  },
  {
   "cell_type": "code",
   "execution_count": 31,
   "id": "d0b78f46",
   "metadata": {},
   "outputs": [
    {
     "name": "stdout",
     "output_type": "stream",
     "text": [
      "비명 질러도 레버리지 ‘몰빵’…폭락장이 3배 더 아픈 서학개미들 https://v.daum.net/v/20250409155045087\n",
      "美상호관세 본게임 시작…'조선·LNG·무역균형' 협상카드 \"최선의 선택지\" https://v.daum.net/v/20250409152121807\n",
      "美 관세폭탄·전기차 캐즘에도… 기아, '수익 방어' 자신감 https://v.daum.net/v/20250409150221908\n",
      "환율급등·상호관세 '더블악재'에 산업계 비상…유례없어 대응막막 https://v.daum.net/v/20250409145910699\n",
      "'제조업' 고용 부진 우려 커졌다...내수침체에 수출둔화까지 https://v.daum.net/v/20250409140651964\n",
      "\"고수익에 원금 손실 없는 IMA\"…한투·미래, 도전장 내민다(종합) https://v.daum.net/v/20250409135436464\n",
      "美상호관세 발효, 본게임 시작…협상 키워드는 '맞춤형·원스톱' https://v.daum.net/v/20250409130123888\n",
      "정부, 美에 LNG 수입·조선업 협력·알래스카 투자 제안…트럼프  “Great Call” https://v.daum.net/v/20250409122036180\n",
      "3월 은행 가계대출 1.4조↑ \"토허제發 주택거래 급증은 2분기 영향\" https://v.daum.net/v/20250409120009533\n",
      "가톨릭·고려대 등 5개 의대 \"책임 있는 답변 못들어…투쟁 지속\" https://v.daum.net/v/20250409155737416\n",
      "피부미용 시술 한의원에 ‘별점·악플 테러’···정체 알고보니 https://v.daum.net/v/20250409155648365\n",
      "'그냥 쉰' 청년, 정말 그냥 쉬고 있을까…\"왜 쉬나\" 물어봤더니 https://v.daum.net/v/20250409155632359\n",
      "여성단체 “고 장제원 성폭력 사건 수사 결과 발표하라” https://v.daum.net/v/20250409155514325\n",
      "장제원 사건 피해자 “죽음으로 성폭력 실체 묻혀선 안돼” https://v.daum.net/v/20250409155015068\n",
      "알래스카 가스개발, 경제성 있다?…LNG·조선 협상 카드 구체화하나 https://v.daum.net/v/20250409154907037\n",
      "\"안성재 철학 이런거였나\"..사기피해에 '입꾹' 닫은 모수서울, 3주째 '노답' [어떻게 생각하세요] https://v.daum.net/v/20250409153830567\n",
      "\"손놓고 있을때 아냐\"…사직 전공의, '대화참여' 기류변화 https://v.daum.net/v/20250409153733536\n",
      "\"65세는 아직 한창\"... 서울시민 4명 중 3명 \"노인은 70세부터\" https://v.daum.net/v/20250409153708515\n"
     ]
    }
   ],
   "source": [
    "def print_news(sid):\n",
    "    import requests\n",
    "    from bs4 import BeautifulSoup\n",
    "    section_dict = {'기후/환경':'climate','사회':'society','경제':'economy','정치':'politics', '국재':'world','문화':'culture','생활':'life','IT/과학':'tech','인물':'people'}\n",
    "    url = f'https://news.daum.net/{section_dict[sid]}'\n",
    "    req_header = {\n",
    "        'user-agent':\n",
    "    'Mozilla/5.0 (Windows NT 10.0; Win64; x64) AppleWebKit/537.36 (KHTML, like Gecko) Chrome/135.0.0.0 Safari/537.36'\n",
    "    }\n",
    "    res = requests.get(url, headers=req_header)\n",
    "    res.encoding = 'utf-8'\n",
    "    if res.ok:\n",
    "        html = res.text\n",
    "        soup = BeautifulSoup(html, 'html.parser')\n",
    "        for li_tag in soup.select(\"ul.list_newsheadline2 li\"):\n",
    "            link = li_tag.find('a')['href']\n",
    "            title = li_tag.select_one('div.cont_thumb strong.tit_txt').text\n",
    "            print(title, link)\n",
    "    else:\n",
    "        print('Error: ', res.status_code)\n",
    "print_news('경제')\n",
    "print_news('사회')"
   ]
  }
 ],
 "metadata": {
  "kernelspec": {
   "display_name": "WEBSC",
   "language": "python",
   "name": "python3"
  },
  "language_info": {
   "codemirror_mode": {
    "name": "ipython",
    "version": 3
   },
   "file_extension": ".py",
   "mimetype": "text/x-python",
   "name": "python",
   "nbconvert_exporter": "python",
   "pygments_lexer": "ipython3",
   "version": "3.13.2"
  }
 },
 "nbformat": 4,
 "nbformat_minor": 5
}
