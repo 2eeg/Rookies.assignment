{
 "cells": [
  {
   "cell_type": "code",
   "execution_count": 27,
   "id": "93e09a63",
   "metadata": {},
   "outputs": [],
   "source": [
    "def printNews(sid):\n",
    "    import requests\n",
    "    from bs4 import BeautifulSoup\n",
    "    section_dict = {'climate': '기후', 'society': '사회', 'politics': '정치', 'economy': '경제','culture': '문화', 'world':'국제',  'tech': 'IT/과학'}\n",
    "    url = f'https://news.daum.net/{sid}'\n",
    "    req_header = {\n",
    "        'user-agent':\n",
    "    'Mozilla/5.0 (Windows NT 10.0; Win64; x64) AppleWebKit/537.36 (KHTML, like Gecko) Chrome/135.0.0.0 Safari/537.36'\n",
    "    }\n",
    "    print(f'===> 다음 뉴스 {url} 카테고리: {section_dict[sid]} <===')\n",
    "\n",
    "    res = requests.get(url, headers=req_header)\n",
    "    res.encoding = 'utf-8'\n",
    "    if res.ok:\n",
    "        html = res.text\n",
    "        soup = BeautifulSoup(html, 'html.parser')\n",
    "        for li_tag in soup.select(\"ul.list_newsheadline2 li\"):\n",
    "            link = li_tag.find('a')['href']\n",
    "            title = li_tag.select_one('div.cont_thumb strong.tit_txt').text\n",
    "            print(title, link)\n",
    "    else:\n",
    "        print('Error: ', res.status_code)"
   ]
  },
  {
   "cell_type": "code",
   "execution_count": 28,
   "id": "ad5ff0a6",
   "metadata": {},
   "outputs": [
    {
     "name": "stdout",
     "output_type": "stream",
     "text": [
      "===> 다음 뉴스 https://news.daum.net/climate 카테고리: 기후 <===\n",
      "'괴물 산불'이 남긴 화상 이렇게 컸다…NASA에 찍힌 상흔 https://v.daum.net/v/20250409150248928\n",
      "사각지대로 빠져나가는 기후변화영향평가…“제도 개선 필요” https://v.daum.net/v/20250409145938719\n",
      "[기후는 말한다] 잇단 산불에도 불법 소각…단속·예방 총력 https://v.daum.net/v/20250409124833696\n",
      "[기후는 말한다] “영남 산불로 온실가스 366만 톤 배출 추정” https://v.daum.net/v/20250409124829695\n",
      "과천시, ‘맞춤형 기후변화 대응’ 나선다 https://v.daum.net/v/20250409123135442\n",
      "전남도,친환경 자동차 기반 넷제로 시티 실증사업 온힘 https://v.daum.net/v/20250409111105152\n",
      "'깨끗하고 푸른 뉴질랜드?'…옛말되나 [지금은 기후위기] https://v.daum.net/v/20250409103854225\n",
      "모래강 내성천에서 모래 파내겠다니... 환경부 문 닫아야 할 일 https://v.daum.net/v/20250409102101213\n",
      "차기정부에 바란다, 기후위기 대응은 곧 민생대책 https://v.daum.net/v/20250409093601073\n"
     ]
    }
   ],
   "source": [
    "printNews('climate')"
   ]
  },
  {
   "cell_type": "code",
   "execution_count": null,
   "id": "ba6d67ea",
   "metadata": {},
   "outputs": [],
   "source": []
  }
 ],
 "metadata": {
  "kernelspec": {
   "display_name": "WEBSC",
   "language": "python",
   "name": "python3"
  },
  "language_info": {
   "codemirror_mode": {
    "name": "ipython",
    "version": 3
   },
   "file_extension": ".py",
   "mimetype": "text/x-python",
   "name": "python",
   "nbconvert_exporter": "python",
   "pygments_lexer": "ipython3",
   "version": "3.13.2"
  }
 },
 "nbformat": 4,
 "nbformat_minor": 5
}
